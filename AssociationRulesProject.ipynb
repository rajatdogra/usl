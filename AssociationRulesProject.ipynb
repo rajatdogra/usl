{
 "cells": [
  {
   "cell_type": "markdown",
   "metadata": {},
   "source": [
    "Association Rule Project\n",
    "\n",
    "**Goal**: The objective of this project is to build a recommendation system. While this has already been done often, what we will be trying to do is recommend netflix shows based on movie choices "
   ]
  },
  {
   "cell_type": "code",
   "execution_count": 3,
   "metadata": {},
   "outputs": [],
   "source": [
    "import kagglehub\n",
    "import pandas as pd"
   ]
  },
  {
   "cell_type": "code",
   "execution_count": 5,
   "metadata": {},
   "outputs": [
    {
     "name": "stdout",
     "output_type": "stream",
     "text": [
      "Downloading from https://www.kaggle.com/api/v1/datasets/download/shivamb/netflix-shows?dataset_version_number=5...\n"
     ]
    },
    {
     "name": "stderr",
     "output_type": "stream",
     "text": [
      "100%|██████████| 1.34M/1.34M [00:00<00:00, 2.38MB/s]"
     ]
    },
    {
     "name": "stdout",
     "output_type": "stream",
     "text": [
      "Extracting files...\n"
     ]
    },
    {
     "name": "stderr",
     "output_type": "stream",
     "text": [
      "\n"
     ]
    }
   ],
   "source": [
    "# Download and extract the dataset\n",
    "netflix_shows_path = kagglehub.dataset_download('shivamb/netflix-shows')\n",
    "\n",
    "# Load the dataset into a DataFrame\n",
    "movie_data = pd.read_csv(netflix_shows_path + '/netflix_titles.csv', low_memory=False)\n"
   ]
  },
  {
   "cell_type": "code",
   "execution_count": 6,
   "metadata": {},
   "outputs": [
    {
     "data": {
      "text/html": [
       "<div>\n",
       "<style scoped>\n",
       "    .dataframe tbody tr th:only-of-type {\n",
       "        vertical-align: middle;\n",
       "    }\n",
       "\n",
       "    .dataframe tbody tr th {\n",
       "        vertical-align: top;\n",
       "    }\n",
       "\n",
       "    .dataframe thead th {\n",
       "        text-align: right;\n",
       "    }\n",
       "</style>\n",
       "<table border=\"1\" class=\"dataframe\">\n",
       "  <thead>\n",
       "    <tr style=\"text-align: right;\">\n",
       "      <th></th>\n",
       "      <th>show_id</th>\n",
       "      <th>type</th>\n",
       "      <th>title</th>\n",
       "      <th>director</th>\n",
       "      <th>cast</th>\n",
       "      <th>country</th>\n",
       "      <th>date_added</th>\n",
       "      <th>release_year</th>\n",
       "      <th>rating</th>\n",
       "      <th>duration</th>\n",
       "      <th>listed_in</th>\n",
       "      <th>description</th>\n",
       "    </tr>\n",
       "  </thead>\n",
       "  <tbody>\n",
       "    <tr>\n",
       "      <th>0</th>\n",
       "      <td>s1</td>\n",
       "      <td>Movie</td>\n",
       "      <td>Dick Johnson Is Dead</td>\n",
       "      <td>Kirsten Johnson</td>\n",
       "      <td>NaN</td>\n",
       "      <td>United States</td>\n",
       "      <td>September 25, 2021</td>\n",
       "      <td>2020</td>\n",
       "      <td>PG-13</td>\n",
       "      <td>90 min</td>\n",
       "      <td>Documentaries</td>\n",
       "      <td>As her father nears the end of his life, filmm...</td>\n",
       "    </tr>\n",
       "    <tr>\n",
       "      <th>1</th>\n",
       "      <td>s2</td>\n",
       "      <td>TV Show</td>\n",
       "      <td>Blood &amp; Water</td>\n",
       "      <td>NaN</td>\n",
       "      <td>Ama Qamata, Khosi Ngema, Gail Mabalane, Thaban...</td>\n",
       "      <td>South Africa</td>\n",
       "      <td>September 24, 2021</td>\n",
       "      <td>2021</td>\n",
       "      <td>TV-MA</td>\n",
       "      <td>2 Seasons</td>\n",
       "      <td>International TV Shows, TV Dramas, TV Mysteries</td>\n",
       "      <td>After crossing paths at a party, a Cape Town t...</td>\n",
       "    </tr>\n",
       "    <tr>\n",
       "      <th>2</th>\n",
       "      <td>s3</td>\n",
       "      <td>TV Show</td>\n",
       "      <td>Ganglands</td>\n",
       "      <td>Julien Leclercq</td>\n",
       "      <td>Sami Bouajila, Tracy Gotoas, Samuel Jouy, Nabi...</td>\n",
       "      <td>NaN</td>\n",
       "      <td>September 24, 2021</td>\n",
       "      <td>2021</td>\n",
       "      <td>TV-MA</td>\n",
       "      <td>1 Season</td>\n",
       "      <td>Crime TV Shows, International TV Shows, TV Act...</td>\n",
       "      <td>To protect his family from a powerful drug lor...</td>\n",
       "    </tr>\n",
       "    <tr>\n",
       "      <th>3</th>\n",
       "      <td>s4</td>\n",
       "      <td>TV Show</td>\n",
       "      <td>Jailbirds New Orleans</td>\n",
       "      <td>NaN</td>\n",
       "      <td>NaN</td>\n",
       "      <td>NaN</td>\n",
       "      <td>September 24, 2021</td>\n",
       "      <td>2021</td>\n",
       "      <td>TV-MA</td>\n",
       "      <td>1 Season</td>\n",
       "      <td>Docuseries, Reality TV</td>\n",
       "      <td>Feuds, flirtations and toilet talk go down amo...</td>\n",
       "    </tr>\n",
       "    <tr>\n",
       "      <th>4</th>\n",
       "      <td>s5</td>\n",
       "      <td>TV Show</td>\n",
       "      <td>Kota Factory</td>\n",
       "      <td>NaN</td>\n",
       "      <td>Mayur More, Jitendra Kumar, Ranjan Raj, Alam K...</td>\n",
       "      <td>India</td>\n",
       "      <td>September 24, 2021</td>\n",
       "      <td>2021</td>\n",
       "      <td>TV-MA</td>\n",
       "      <td>2 Seasons</td>\n",
       "      <td>International TV Shows, Romantic TV Shows, TV ...</td>\n",
       "      <td>In a city of coaching centers known to train I...</td>\n",
       "    </tr>\n",
       "  </tbody>\n",
       "</table>\n",
       "</div>"
      ],
      "text/plain": [
       "  show_id     type                  title         director  \\\n",
       "0      s1    Movie   Dick Johnson Is Dead  Kirsten Johnson   \n",
       "1      s2  TV Show          Blood & Water              NaN   \n",
       "2      s3  TV Show              Ganglands  Julien Leclercq   \n",
       "3      s4  TV Show  Jailbirds New Orleans              NaN   \n",
       "4      s5  TV Show           Kota Factory              NaN   \n",
       "\n",
       "                                                cast        country  \\\n",
       "0                                                NaN  United States   \n",
       "1  Ama Qamata, Khosi Ngema, Gail Mabalane, Thaban...   South Africa   \n",
       "2  Sami Bouajila, Tracy Gotoas, Samuel Jouy, Nabi...            NaN   \n",
       "3                                                NaN            NaN   \n",
       "4  Mayur More, Jitendra Kumar, Ranjan Raj, Alam K...          India   \n",
       "\n",
       "           date_added  release_year rating   duration  \\\n",
       "0  September 25, 2021          2020  PG-13     90 min   \n",
       "1  September 24, 2021          2021  TV-MA  2 Seasons   \n",
       "2  September 24, 2021          2021  TV-MA   1 Season   \n",
       "3  September 24, 2021          2021  TV-MA   1 Season   \n",
       "4  September 24, 2021          2021  TV-MA  2 Seasons   \n",
       "\n",
       "                                           listed_in  \\\n",
       "0                                      Documentaries   \n",
       "1    International TV Shows, TV Dramas, TV Mysteries   \n",
       "2  Crime TV Shows, International TV Shows, TV Act...   \n",
       "3                             Docuseries, Reality TV   \n",
       "4  International TV Shows, Romantic TV Shows, TV ...   \n",
       "\n",
       "                                         description  \n",
       "0  As her father nears the end of his life, filmm...  \n",
       "1  After crossing paths at a party, a Cape Town t...  \n",
       "2  To protect his family from a powerful drug lor...  \n",
       "3  Feuds, flirtations and toilet talk go down amo...  \n",
       "4  In a city of coaching centers known to train I...  "
      ]
     },
     "execution_count": 6,
     "metadata": {},
     "output_type": "execute_result"
    }
   ],
   "source": [
    "movie_data.head()"
   ]
  },
  {
   "cell_type": "code",
   "execution_count": 12,
   "metadata": {},
   "outputs": [
    {
     "name": "stdout",
     "output_type": "stream",
     "text": [
      "Path to dataset files: /Users/rajat/.cache/kagglehub/datasets/blessondensil294/friends-tv-series-screenplay-script/versions/1\n"
     ]
    }
   ],
   "source": [
    "import os\n",
    "import kagglehub\n",
    "import pandas as pd\n",
    "import re\n",
    "\n",
    "# Step 1: Download the dataset\n",
    "path = kagglehub.dataset_download(\"blessondensil294/friends-tv-series-screenplay-script\")\n",
    "\n",
    "print(\"Path to dataset files:\", path)\n"
   ]
  },
  {
   "cell_type": "code",
   "execution_count": 21,
   "metadata": {},
   "outputs": [
    {
     "name": "stdout",
     "output_type": "stream",
     "text": [
      "   scene_number                      script_file  Actor  Adrienne  Agent  \\\n",
      "0             1  S09E17 The Memorial Service.txt      0         0      0   \n",
      "1             2  S09E17 The Memorial Service.txt      0         0      0   \n",
      "2             3  S09E17 The Memorial Service.txt      0         0      0   \n",
      "3             4  S09E17 The Memorial Service.txt      0         0      0   \n",
      "4             5  S09E17 The Memorial Service.txt      0         0      0   \n",
      "\n",
      "   Alan  Alex  Alexander  Alice  All  ...  Williams  Witch  Woman  Worker  \\\n",
      "0     0     0          0      0    0  ...         0      0      0       0   \n",
      "1     0     0          0      0    0  ...         0      0      0       0   \n",
      "2     0     0          0      0    0  ...         0      0      0       0   \n",
      "3     0     0          0      0    0  ...         0      0      0       0   \n",
      "4     0     0          0      0    0  ...         0      0      0       0   \n",
      "\n",
      "   Writer  Zack  Zane  Zellner  Zelner  Zoe  \n",
      "0       0     0     0        0       0    0  \n",
      "1       0     0     0        0       0    0  \n",
      "2       0     0     0        0       0    0  \n",
      "3       0     0     0        0       0    0  \n",
      "4       0     0     0        0       0    0  \n",
      "\n",
      "[5 rows x 493 columns]\n"
     ]
    }
   ],
   "source": [
    "\n",
    "# Step 2: List all text files in the downloaded folder\n",
    "script_files = [f for f in os.listdir(path) if f.endswith('.txt')]\n",
    "\n",
    "# Regular expression patterns for scenes and actors\n",
    "scene_pattern = r\"\\[Scene: (.*?)\\]\"\n",
    "actor_pattern = r\"([A-Z][a-z]+):\"  # Only capture words starting with capital letter followed by lowercase letters\n",
    "\n",
    "# List to store scene and actor data\n",
    "scene_data = []\n",
    "all_actors = set()\n",
    "\n",
    "# Step 3: Process each script file\n",
    "for script_file in script_files:\n",
    "    with open(os.path.join(path, script_file), 'r', encoding='utf-8') as file:\n",
    "        script_text = file.read()\n",
    "\n",
    "        # Split script into scenes by looking for [Scene: ]\n",
    "        scenes = script_text.split('[Scene:')\n",
    "\n",
    "        # Process each scene\n",
    "        for i, scene in enumerate(scenes[1:], start=1):\n",
    "            scene_info = {}\n",
    "            scene_info['scene_number'] = i\n",
    "            scene_info['script_file'] = script_file  # To identify which script the scene belongs to\n",
    "\n",
    "            # Extract actors from the scene\n",
    "            actors = re.findall(actor_pattern, scene)\n",
    "            scene_info['actors'] = actors\n",
    "\n",
    "            # Update all_actors set to keep track of unique actor names\n",
    "            all_actors.update(actors)\n",
    "\n",
    "            scene_data.append(scene_info)\n",
    "\n",
    "# Step 4: Create a DataFrame\n",
    "all_actors = sorted(list(all_actors))  # Sort actors to maintain consistent column order\n",
    "\n",
    "# Create a matrix for the scene data\n",
    "scene_matrix = []\n",
    "\n",
    "for scene_info in scene_data:\n",
    "    scene_row = [scene_info['scene_number'], scene_info['script_file']]\n",
    "    \n",
    "    # For each actor, mark if they are present in the scene\n",
    "    for actor in all_actors:\n",
    "        scene_row.append(1 if actor in scene_info['actors'] else 0)\n",
    "    \n",
    "    scene_matrix.append(scene_row)\n",
    "\n",
    "# Create pandas DataFrame\n",
    "df = pd.DataFrame(scene_matrix, columns=['scene_number', 'script_file'] + all_actors)\n",
    "\n",
    "# Step 5: Display the DataFrame\n",
    "print(df.head())  # Show the first few rows to verify the result\n",
    "\n",
    "\n"
   ]
  },
  {
   "cell_type": "code",
   "execution_count": 30,
   "metadata": {},
   "outputs": [
    {
     "name": "stdout",
     "output_type": "stream",
     "text": [
      "      scene_number           script_file  All  Carol  Chandler  Charlie  \\\n",
      "3045            17  S01E23 The Birth.txt    0      1         1        0   \n",
      "3046            18  S01E23 The Birth.txt    0      0         0        0   \n",
      "3047            19  S01E23 The Birth.txt    1      1         1        0   \n",
      "3048            20  S01E23 The Birth.txt    0      1         1        0   \n",
      "3049            21  S01E23 The Birth.txt    1      0         1        0   \n",
      "\n",
      "      Director  Emily  Geller  Gunther  ...  Mike  Monica  Nurse  Phoebe  \\\n",
      "3045         0      0       0        0  ...     0       1      1       0   \n",
      "3046         0      0       0        0  ...     0       0      0       1   \n",
      "3047         0      0       0        0  ...     0       0      1       1   \n",
      "3048         0      0       0        0  ...     0       1      0       1   \n",
      "3049         0      0       0        0  ...     0       1      0       1   \n",
      "\n",
      "      Rachel  Richard  Ross  Susan  Tag  Woman  \n",
      "3045       1        0     0      0    0      0  \n",
      "3046       0        0     1      1    0      0  \n",
      "3047       0        0     1      1    0      0  \n",
      "3048       1        0     1      1    0      0  \n",
      "3049       1        0     1      0    0      0  \n",
      "\n",
      "[5 rows x 24 columns]\n"
     ]
    }
   ],
   "source": [
    "# Count how many times each actor appears across all scenes\n",
    "actor_appearance_count = df.drop(['scene_number', 'script_file'], axis=1).sum()\n",
    "\n",
    "# Keep actors who appear more than 100 times\n",
    "actors_to_keep = actor_appearance_count[actor_appearance_count > 20].index.tolist()\n",
    "\n",
    "# Filter the DataFrame to include only the relevant actors\n",
    "filtered_df = df[['scene_number', 'script_file'] + actors_to_keep]\n",
    "\n",
    "# Display the filtered DataFrame\n",
    "print(filtered_df.tail())  # Show the first few rows\n",
    "\n"
   ]
  },
  {
   "cell_type": "code",
   "execution_count": 26,
   "metadata": {},
   "outputs": [
    {
     "name": "stdout",
     "output_type": "stream",
     "text": [
      "<class 'pandas.core.frame.DataFrame'>\n",
      "RangeIndex: 3050 entries, 0 to 3049\n",
      "Data columns (total 24 columns):\n",
      " #   Column        Non-Null Count  Dtype \n",
      "---  ------        --------------  ----- \n",
      " 0   scene_number  3050 non-null   int64 \n",
      " 1   script_file   3050 non-null   object\n",
      " 2   All           3050 non-null   int64 \n",
      " 3   Carol         3050 non-null   int64 \n",
      " 4   Chandler      3050 non-null   int64 \n",
      " 5   Charlie       3050 non-null   int64 \n",
      " 6   Director      3050 non-null   int64 \n",
      " 7   Emily         3050 non-null   int64 \n",
      " 8   Geller        3050 non-null   int64 \n",
      " 9   Gunther       3050 non-null   int64 \n",
      " 10  Guy           3050 non-null   int64 \n",
      " 11  Janice        3050 non-null   int64 \n",
      " 12  Joey          3050 non-null   int64 \n",
      " 13  Man           3050 non-null   int64 \n",
      " 14  Mike          3050 non-null   int64 \n",
      " 15  Monica        3050 non-null   int64 \n",
      " 16  Nurse         3050 non-null   int64 \n",
      " 17  Phoebe        3050 non-null   int64 \n",
      " 18  Rachel        3050 non-null   int64 \n",
      " 19  Richard       3050 non-null   int64 \n",
      " 20  Ross          3050 non-null   int64 \n",
      " 21  Susan         3050 non-null   int64 \n",
      " 22  Tag           3050 non-null   int64 \n",
      " 23  Woman         3050 non-null   int64 \n",
      "dtypes: int64(23), object(1)\n",
      "memory usage: 572.0+ KB\n"
     ]
    }
   ],
   "source": [
    "filtered_df.info()"
   ]
  },
  {
   "cell_type": "code",
   "execution_count": 31,
   "metadata": {},
   "outputs": [
    {
     "name": "stdout",
     "output_type": "stream",
     "text": [
      "   scene_number                      script_file  Carol  Chandler  Charlie  \\\n",
      "0             1  S09E17 The Memorial Service.txt      0         1        0   \n",
      "1             2  S09E17 The Memorial Service.txt      0         0        0   \n",
      "2             3  S09E17 The Memorial Service.txt      0         1        0   \n",
      "3             4  S09E17 The Memorial Service.txt      0         0        0   \n",
      "4             5  S09E17 The Memorial Service.txt      0         1        0   \n",
      "\n",
      "   Emily  Gunther  Janice  Joey  Man  Mike  Monica  Phoebe  Rachel  Richard  \\\n",
      "0      0        0       0     1    0     0       0       0       0        0   \n",
      "1      0        0       0     1    0     0       0       0       1        0   \n",
      "2      0        0       0     0    0     0       1       1       0        0   \n",
      "3      0        0       0     1    0     0       0       0       1        0   \n",
      "4      0        0       0     0    0     0       1       0       0        0   \n",
      "\n",
      "   Ross  Susan  Tag  \n",
      "0     1      0    0  \n",
      "1     0      0    0  \n",
      "2     1      0    0  \n",
      "3     0      0    0  \n",
      "4     1      0    0  \n"
     ]
    }
   ],
   "source": [
    "# Remove unwanted columns: \"Director\", \"All\", \"Guy\", \"Woman\", \"Geller\"\n",
    "columns_to_remove = ['Director', 'All', 'Guy', 'Woman', 'Geller', 'Nurse']\n",
    "filtered_df = filtered_df.drop(columns=columns_to_remove, errors='ignore')\n",
    "\n",
    "# Display the filtered DataFrame after removing specified columns\n",
    "print(filtered_df.head())  # Show the first few rows\n"
   ]
  },
  {
   "cell_type": "code",
   "execution_count": 35,
   "metadata": {},
   "outputs": [
    {
     "data": {
      "text/html": [
       "<div>\n",
       "<style scoped>\n",
       "    .dataframe tbody tr th:only-of-type {\n",
       "        vertical-align: middle;\n",
       "    }\n",
       "\n",
       "    .dataframe tbody tr th {\n",
       "        vertical-align: top;\n",
       "    }\n",
       "\n",
       "    .dataframe thead th {\n",
       "        text-align: right;\n",
       "    }\n",
       "</style>\n",
       "<table border=\"1\" class=\"dataframe\">\n",
       "  <thead>\n",
       "    <tr style=\"text-align: right;\">\n",
       "      <th></th>\n",
       "      <th>scene_number</th>\n",
       "      <th>script_file</th>\n",
       "      <th>Carol</th>\n",
       "      <th>Chandler</th>\n",
       "      <th>Charlie</th>\n",
       "      <th>Emily</th>\n",
       "      <th>Gunther</th>\n",
       "      <th>Janice</th>\n",
       "      <th>Joey</th>\n",
       "      <th>Man</th>\n",
       "      <th>Mike</th>\n",
       "      <th>Monica</th>\n",
       "      <th>Phoebe</th>\n",
       "      <th>Rachel</th>\n",
       "      <th>Richard</th>\n",
       "      <th>Ross</th>\n",
       "      <th>Susan</th>\n",
       "      <th>Tag</th>\n",
       "    </tr>\n",
       "  </thead>\n",
       "  <tbody>\n",
       "    <tr>\n",
       "      <th>0</th>\n",
       "      <td>1</td>\n",
       "      <td>S09E17 The Memorial Service.txt</td>\n",
       "      <td>0</td>\n",
       "      <td>1</td>\n",
       "      <td>0</td>\n",
       "      <td>0</td>\n",
       "      <td>0</td>\n",
       "      <td>0</td>\n",
       "      <td>1</td>\n",
       "      <td>0</td>\n",
       "      <td>0</td>\n",
       "      <td>0</td>\n",
       "      <td>0</td>\n",
       "      <td>0</td>\n",
       "      <td>0</td>\n",
       "      <td>1</td>\n",
       "      <td>0</td>\n",
       "      <td>0</td>\n",
       "    </tr>\n",
       "    <tr>\n",
       "      <th>1</th>\n",
       "      <td>2</td>\n",
       "      <td>S09E17 The Memorial Service.txt</td>\n",
       "      <td>0</td>\n",
       "      <td>0</td>\n",
       "      <td>0</td>\n",
       "      <td>0</td>\n",
       "      <td>0</td>\n",
       "      <td>0</td>\n",
       "      <td>1</td>\n",
       "      <td>0</td>\n",
       "      <td>0</td>\n",
       "      <td>0</td>\n",
       "      <td>0</td>\n",
       "      <td>1</td>\n",
       "      <td>0</td>\n",
       "      <td>0</td>\n",
       "      <td>0</td>\n",
       "      <td>0</td>\n",
       "    </tr>\n",
       "    <tr>\n",
       "      <th>2</th>\n",
       "      <td>3</td>\n",
       "      <td>S09E17 The Memorial Service.txt</td>\n",
       "      <td>0</td>\n",
       "      <td>1</td>\n",
       "      <td>0</td>\n",
       "      <td>0</td>\n",
       "      <td>0</td>\n",
       "      <td>0</td>\n",
       "      <td>0</td>\n",
       "      <td>0</td>\n",
       "      <td>0</td>\n",
       "      <td>1</td>\n",
       "      <td>1</td>\n",
       "      <td>0</td>\n",
       "      <td>0</td>\n",
       "      <td>1</td>\n",
       "      <td>0</td>\n",
       "      <td>0</td>\n",
       "    </tr>\n",
       "    <tr>\n",
       "      <th>3</th>\n",
       "      <td>4</td>\n",
       "      <td>S09E17 The Memorial Service.txt</td>\n",
       "      <td>0</td>\n",
       "      <td>0</td>\n",
       "      <td>0</td>\n",
       "      <td>0</td>\n",
       "      <td>0</td>\n",
       "      <td>0</td>\n",
       "      <td>1</td>\n",
       "      <td>0</td>\n",
       "      <td>0</td>\n",
       "      <td>0</td>\n",
       "      <td>0</td>\n",
       "      <td>1</td>\n",
       "      <td>0</td>\n",
       "      <td>0</td>\n",
       "      <td>0</td>\n",
       "      <td>0</td>\n",
       "    </tr>\n",
       "    <tr>\n",
       "      <th>4</th>\n",
       "      <td>5</td>\n",
       "      <td>S09E17 The Memorial Service.txt</td>\n",
       "      <td>0</td>\n",
       "      <td>1</td>\n",
       "      <td>0</td>\n",
       "      <td>0</td>\n",
       "      <td>0</td>\n",
       "      <td>0</td>\n",
       "      <td>0</td>\n",
       "      <td>0</td>\n",
       "      <td>0</td>\n",
       "      <td>1</td>\n",
       "      <td>0</td>\n",
       "      <td>0</td>\n",
       "      <td>0</td>\n",
       "      <td>1</td>\n",
       "      <td>0</td>\n",
       "      <td>0</td>\n",
       "    </tr>\n",
       "  </tbody>\n",
       "</table>\n",
       "</div>"
      ],
      "text/plain": [
       "   scene_number                      script_file  Carol  Chandler  Charlie  \\\n",
       "0             1  S09E17 The Memorial Service.txt      0         1        0   \n",
       "1             2  S09E17 The Memorial Service.txt      0         0        0   \n",
       "2             3  S09E17 The Memorial Service.txt      0         1        0   \n",
       "3             4  S09E17 The Memorial Service.txt      0         0        0   \n",
       "4             5  S09E17 The Memorial Service.txt      0         1        0   \n",
       "\n",
       "   Emily  Gunther  Janice  Joey  Man  Mike  Monica  Phoebe  Rachel  Richard  \\\n",
       "0      0        0       0     1    0     0       0       0       0        0   \n",
       "1      0        0       0     1    0     0       0       0       1        0   \n",
       "2      0        0       0     0    0     0       1       1       0        0   \n",
       "3      0        0       0     1    0     0       0       0       1        0   \n",
       "4      0        0       0     0    0     0       1       0       0        0   \n",
       "\n",
       "   Ross  Susan  Tag  \n",
       "0     1      0    0  \n",
       "1     0      0    0  \n",
       "2     1      0    0  \n",
       "3     0      0    0  \n",
       "4     1      0    0  "
      ]
     },
     "execution_count": 35,
     "metadata": {},
     "output_type": "execute_result"
    }
   ],
   "source": [
    "filtered_df.head()"
   ]
  },
  {
   "cell_type": "code",
   "execution_count": 36,
   "metadata": {},
   "outputs": [
    {
     "name": "stdout",
     "output_type": "stream",
     "text": [
      "Chandler    1356\n",
      "Joey        1316\n",
      "Rachel      1314\n",
      "Monica      1292\n",
      "Ross        1259\n",
      "Phoebe      1207\n",
      "Gunther       63\n",
      "Mike          60\n",
      "Janice        44\n",
      "Carol         38\n",
      "Charlie       33\n",
      "Emily         31\n",
      "Man           31\n",
      "Susan         27\n",
      "Tag           27\n",
      "Richard       23\n",
      "dtype: int64\n"
     ]
    }
   ],
   "source": [
    "# Exclude non-character columns\n",
    "character_columns = filtered_df.columns.difference(['scene_number', 'script_file'])\n",
    "\n",
    "# Count the number of dialogue occurrences per character per scene\n",
    "dialogue_counts = filtered_df[character_columns].sum(axis=0)\n",
    "\n",
    "# Sort characters by the number of lines\n",
    "dialogue_counts_sorted = dialogue_counts.sort_values(ascending=False)\n",
    "\n",
    "# Display results\n",
    "print(dialogue_counts_sorted)"
   ]
  },
  {
   "cell_type": "code",
   "execution_count": 43,
   "metadata": {},
   "outputs": [],
   "source": [
    "import pandas as pd\n",
    "from itertools import combinations"
   ]
  },
  {
   "cell_type": "code",
   "execution_count": 44,
   "metadata": {},
   "outputs": [
    {
     "data": {
      "text/html": [
       "<div>\n",
       "<style scoped>\n",
       "    .dataframe tbody tr th:only-of-type {\n",
       "        vertical-align: middle;\n",
       "    }\n",
       "\n",
       "    .dataframe tbody tr th {\n",
       "        vertical-align: top;\n",
       "    }\n",
       "\n",
       "    .dataframe thead th {\n",
       "        text-align: right;\n",
       "    }\n",
       "</style>\n",
       "<table border=\"1\" class=\"dataframe\">\n",
       "  <thead>\n",
       "    <tr style=\"text-align: right;\">\n",
       "      <th></th>\n",
       "      <th>pair</th>\n",
       "      <th>count</th>\n",
       "    </tr>\n",
       "  </thead>\n",
       "  <tbody>\n",
       "    <tr>\n",
       "      <th>4</th>\n",
       "      <td>(1, 9)</td>\n",
       "      <td>888</td>\n",
       "    </tr>\n",
       "    <tr>\n",
       "      <th>0</th>\n",
       "      <td>(1, 6)</td>\n",
       "      <td>818</td>\n",
       "    </tr>\n",
       "    <tr>\n",
       "      <th>13</th>\n",
       "      <td>(11, 13)</td>\n",
       "      <td>759</td>\n",
       "    </tr>\n",
       "    <tr>\n",
       "      <th>6</th>\n",
       "      <td>(9, 10)</td>\n",
       "      <td>738</td>\n",
       "    </tr>\n",
       "    <tr>\n",
       "      <th>11</th>\n",
       "      <td>(9, 11)</td>\n",
       "      <td>706</td>\n",
       "    </tr>\n",
       "    <tr>\n",
       "      <th>12</th>\n",
       "      <td>(10, 11)</td>\n",
       "      <td>691</td>\n",
       "    </tr>\n",
       "    <tr>\n",
       "      <th>1</th>\n",
       "      <td>(1, 13)</td>\n",
       "      <td>668</td>\n",
       "    </tr>\n",
       "    <tr>\n",
       "      <th>3</th>\n",
       "      <td>(6, 11)</td>\n",
       "      <td>663</td>\n",
       "    </tr>\n",
       "    <tr>\n",
       "      <th>14</th>\n",
       "      <td>(6, 9)</td>\n",
       "      <td>656</td>\n",
       "    </tr>\n",
       "    <tr>\n",
       "      <th>2</th>\n",
       "      <td>(6, 13)</td>\n",
       "      <td>649</td>\n",
       "    </tr>\n",
       "  </tbody>\n",
       "</table>\n",
       "</div>"
      ],
      "text/plain": [
       "        pair  count\n",
       "4     (1, 9)    888\n",
       "0     (1, 6)    818\n",
       "13  (11, 13)    759\n",
       "6    (9, 10)    738\n",
       "11   (9, 11)    706\n",
       "12  (10, 11)    691\n",
       "1    (1, 13)    668\n",
       "3    (6, 11)    663\n",
       "14    (6, 9)    656\n",
       "2    (6, 13)    649"
      ]
     },
     "execution_count": 44,
     "metadata": {},
     "output_type": "execute_result"
    }
   ],
   "source": [
    "# Drop unnecessary columns\n",
    "df_transformed = filtered_df.drop(columns=['scene_number', 'script_file'])\n",
    "\n",
    "# Convert binary values (1 or 0) to boolean (True for 1, False for 0)\n",
    "df_transformed = df_transformed.apply(lambda x: x == 1)\n",
    "\n",
    "# Create a list of all scenes, each scene is a list of characters who spoke\n",
    "scenes = df_transformed.values.tolist()\n",
    "\n",
    "# Now we can generate the co-occurrence matrix\n",
    "co_occurrence = {}\n",
    "\n",
    "# Iterate through all scenes\n",
    "for scene in scenes:\n",
    "    # Get all pairs of characters that appear in the scene\n",
    "    pairs = combinations([i for i, x in enumerate(scene) if x], 2)  # Only consider 'True' (1) values\n",
    "    for pair in pairs:\n",
    "        pair = tuple(sorted(pair))  # Sort to avoid duplicate pairs\n",
    "        if pair in co_occurrence:\n",
    "            co_occurrence[pair] += 1\n",
    "        else:\n",
    "            co_occurrence[pair] = 1\n",
    "\n",
    "# Convert co_occurrence dictionary to a DataFrame\n",
    "co_occurrence_df = pd.DataFrame(list(co_occurrence.items()), columns=['pair', 'count'])\n",
    "\n",
    "# Show top pairs by co-occurrence count\n",
    "co_occurrence_df.sort_values(by='count', ascending=False).head(10)\n"
   ]
  },
  {
   "cell_type": "code",
   "execution_count": 45,
   "metadata": {},
   "outputs": [
    {
     "name": "stdout",
     "output_type": "stream",
     "text": [
      "    antecedents                               consequents   support  \\\n",
      "0        (Ross)                                   (Carol)  0.011475   \n",
      "1       (Carol)                                    (Ross)  0.011475   \n",
      "4      (Janice)                                (Chandler)  0.011148   \n",
      "5    (Chandler)                                  (Janice)  0.011148   \n",
      "8      (Monica)                                (Chandler)  0.291148   \n",
      "..          ...                                       ...       ...   \n",
      "611  (Chandler)      (Joey, Monica, Phoebe, Rachel, Ross)  0.089836   \n",
      "612    (Monica)    (Joey, Chandler, Phoebe, Rachel, Ross)  0.089836   \n",
      "613    (Phoebe)    (Joey, Chandler, Monica, Rachel, Ross)  0.089836   \n",
      "614    (Rachel)    (Joey, Chandler, Monica, Phoebe, Ross)  0.089836   \n",
      "615      (Ross)  (Joey, Chandler, Monica, Phoebe, Rachel)  0.089836   \n",
      "\n",
      "     confidence      lift  \n",
      "0      0.027800  2.231303  \n",
      "1      0.921053  2.231303  \n",
      "4      0.772727  1.738067  \n",
      "5      0.025074  1.738067  \n",
      "8      0.687307  1.545933  \n",
      "..          ...       ...  \n",
      "611    0.202065  2.082088  \n",
      "612    0.212074  2.177867  \n",
      "613    0.227009  2.205025  \n",
      "614    0.208524  2.038452  \n",
      "615    0.217633  2.005380  \n",
      "\n",
      "[550 rows x 5 columns]\n",
      "                            antecedents       consequents   support  \\\n",
      "1                               (Carol)            (Ross)  0.011475   \n",
      "4                              (Janice)        (Chandler)  0.011148   \n",
      "30                               (Mike)          (Phoebe)  0.018033   \n",
      "44                       (Monica, Joey)        (Chandler)  0.180328   \n",
      "50                       (Phoebe, Joey)        (Chandler)  0.152787   \n",
      "..                                  ...               ...       ...   \n",
      "570  (Monica, Phoebe, Chandler, Rachel)      (Ross, Joey)  0.089836   \n",
      "571    (Ross, Monica, Phoebe, Chandler)    (Rachel, Joey)  0.089836   \n",
      "572    (Ross, Monica, Rachel, Chandler)    (Phoebe, Joey)  0.089836   \n",
      "573    (Ross, Phoebe, Rachel, Chandler)    (Monica, Joey)  0.089836   \n",
      "574      (Ross, Monica, Phoebe, Rachel)  (Joey, Chandler)  0.089836   \n",
      "\n",
      "     confidence      lift  \n",
      "1      0.921053  2.231303  \n",
      "4      0.772727  1.738067  \n",
      "30     0.916667  2.316349  \n",
      "44     0.838415  1.885815  \n",
      "50     0.726989  1.635189  \n",
      "..          ...       ...  \n",
      "570    0.709845  3.335941  \n",
      "571    0.752747  3.462864  \n",
      "572    0.732620  3.485947  \n",
      "573    0.801170  3.724950  \n",
      "574    0.759003  2.830023  \n",
      "\n",
      "[154 rows x 5 columns]\n"
     ]
    }
   ],
   "source": [
    "from mlxtend.frequent_patterns import apriori, association_rules\n",
    "from mlxtend.preprocessing import TransactionEncoder\n",
    "\n",
    "# Convert the scene data into transactions for the Apriori algorithm\n",
    "transactions = []\n",
    "\n",
    "for scene in scenes:\n",
    "    # Get all characters who spoke in the scene\n",
    "    transaction = [df_transformed.columns[i] for i, x in enumerate(scene) if x]\n",
    "    transactions.append(transaction)\n",
    "\n",
    "# Apply TransactionEncoder to get the appropriate format\n",
    "te = TransactionEncoder()\n",
    "te_ary = te.fit(transactions).transform(transactions)\n",
    "\n",
    "# Convert to DataFrame for Apriori\n",
    "df_te = pd.DataFrame(te_ary, columns=te.columns_)\n",
    "\n",
    "# Apply the Apriori algorithm\n",
    "frequent_itemsets = apriori(df_te, min_support=0.01, use_colnames=True)\n",
    "\n",
    "# Generate association rules from the frequent itemsets\n",
    "rules = association_rules(frequent_itemsets, metric=\"lift\", min_threshold=1.0)\n",
    "\n",
    "# Filter rules with high lift and confidence\n",
    "high_lift_rules = rules[rules['lift'] > 1.5]\n",
    "high_confidence_rules = rules[rules['confidence'] > 0.7]\n",
    "\n",
    "# Display the high-lift rules\n",
    "print(high_lift_rules[['antecedents', 'consequents', 'support', 'confidence', 'lift']])\n",
    "\n",
    "# Display the high-confidence rules\n",
    "print(high_confidence_rules[['antecedents', 'consequents', 'support', 'confidence', 'lift']])\n"
   ]
  },
  {
   "cell_type": "code",
   "execution_count": 46,
   "metadata": {},
   "outputs": [
    {
     "data": {
      "image/png": "[encoded data removed]",
      "text/plain": [
       "<Figure size 1000x600 with 1 Axes>"
      ]
     },
     "metadata": {},
     "output_type": "display_data"
    }
   ],
   "source": [
    "import matplotlib.pyplot as plt\n",
    "import seaborn as sns\n",
    "\n",
    "# Visualize the support vs. lift of the rules\n",
    "plt.figure(figsize=(10, 6))\n",
    "sns.scatterplot(x='support', y='lift', data=high_lift_rules, hue='confidence', size='support', sizes=(20, 200))\n",
    "plt.title('Association Rules: Support vs Lift')\n",
    "plt.xlabel('Support')\n",
    "plt.ylabel('Lift')\n",
    "plt.show()\n"
   ]
  },
  {
   "cell_type": "code",
   "execution_count": 41,
   "metadata": {},
   "outputs": [
    {
     "name": "stdout",
     "output_type": "stream",
     "text": [
      "Empty DataFrame\n",
      "Columns: [antecedents, consequents, support, confidence, lift]\n",
      "Index: []\n",
      "   antecedents consequents   support  confidence  lift\n",
      "0          (0)         ( )  1.000000    1.000000   1.0\n",
      "1          ( )         (0)  1.000000    1.000000   1.0\n",
      "2          (1)         ( )  0.913115    1.000000   1.0\n",
      "3          ( )         (1)  0.913115    0.913115   1.0\n",
      "4          (1)         (0)  0.913115    1.000000   1.0\n",
      "5          (0)         (1)  0.913115    0.913115   1.0\n",
      "6       (1, 0)         ( )  0.913115    1.000000   1.0\n",
      "7       (1,  )         (0)  0.913115    1.000000   1.0\n",
      "8       (0,  )         (1)  0.913115    0.913115   1.0\n",
      "9          (1)      (0,  )  0.913115    1.000000   1.0\n",
      "10         (0)      (1,  )  0.913115    0.913115   1.0\n",
      "11         ( )      (1, 0)  0.913115    0.913115   1.0\n"
     ]
    }
   ],
   "source": [
    "# Filter rules with high lift and confidence\n",
    "high_lift_rules = rules[rules['lift'] > 1.5]  # Example threshold for lift\n",
    "high_confidence_rules = rules[rules['confidence'] > 0.7]  # Example threshold for confidence\n",
    "\n",
    "# Display high lift rules\n",
    "print(high_lift_rules[['antecedents', 'consequents', 'support', 'confidence', 'lift']])\n",
    "\n",
    "# Display high confidence rules\n",
    "print(high_confidence_rules[['antecedents', 'consequents', 'support', 'confidence', 'lift']])\n"
   ]
  },
  {
   "cell_type": "code",
   "execution_count": 42,
   "metadata": {},
   "outputs": [
    {
     "data": {
      "image/png": "[encoded data removed]",
      "text/plain": [
       "<Figure size 1000x600 with 1 Axes>"
      ]
     },
     "metadata": {},
     "output_type": "display_data"
    }
   ],
   "source": [
    "import matplotlib.pyplot as plt\n",
    "import seaborn as sns\n",
    "\n",
    "# Visualize the support vs. lift of the rules\n",
    "plt.figure(figsize=(10, 6))\n",
    "sns.scatterplot(x='support', y='lift', data=rules, hue='confidence', size='support', sizes=(20, 200))\n",
    "plt.title('Association Rules: Support vs Lift')\n",
    "plt.xlabel('Support')\n",
    "plt.ylabel('Lift')\n",
    "plt.show()\n"
   ]
  },
  {
   "cell_type": "code",
   "execution_count": 47,
   "metadata": {},
   "outputs": [
    {
     "name": "stdout",
     "output_type": "stream",
     "text": [
      "(3050, 16)\n",
      "   Carol  Chandler  Charlie  Emily  Gunther  Janice   Joey    Man   Mike  \\\n",
      "0  False      True    False  False    False   False   True  False  False   \n",
      "1  False     False    False  False    False   False   True  False  False   \n",
      "2  False      True    False  False    False   False  False  False  False   \n",
      "3  False     False    False  False    False   False   True  False  False   \n",
      "4  False      True    False  False    False   False  False  False  False   \n",
      "\n",
      "   Monica  Phoebe  Rachel  Richard   Ross  Susan    Tag  \n",
      "0   False   False   False    False   True  False  False  \n",
      "1   False   False    True    False  False  False  False  \n",
      "2    True    True   False    False   True  False  False  \n",
      "3   False   False    True    False  False  False  False  \n",
      "4    True   False   False    False   True  False  False  \n"
     ]
    }
   ],
   "source": [
    "import pandas as pd\n",
    "from mlxtend.preprocessing import TransactionEncoder\n",
    "\n",
    "# Assuming your dataset is loaded into a pandas dataframe `df`\n",
    "# Convert each scene's characters to a list of 'items'\n",
    "transactions = filtered_df.drop(['scene_number', 'script_file'], axis=1).apply(lambda x: x.index[x == 1].tolist(), axis=1).tolist()\n",
    "\n",
    "# Use TransactionEncoder to encode the transaction data\n",
    "te = TransactionEncoder()\n",
    "te_ary = te.fit_transform(transactions)\n",
    "\n",
    "# Convert to DataFrame for easier handling\n",
    "trans_df = pd.DataFrame(te_ary, columns=te.columns_)\n",
    "\n",
    "# Show summary\n",
    "print(trans_df.shape)  # Prints the number of transactions and items\n",
    "print(trans_df.head())  # Shows the first few rows\n"
   ]
  },
  {
   "cell_type": "code",
   "execution_count": 48,
   "metadata": {},
   "outputs": [
    {
     "name": "stdout",
     "output_type": "stream",
     "text": [
      "(152, 16)\n"
     ]
    }
   ],
   "source": [
    "sample_df = trans_df.sample(frac=0.05, random_state=42)\n",
    "print(sample_df.shape)  # Show the shape of the sample dataframe\n"
   ]
  },
  {
   "cell_type": "code",
   "execution_count": 50,
   "metadata": {},
   "outputs": [
    {
     "data": {
      "image/png": "[encoded data removed]",
      "text/plain": [
       "<Figure size 2400x1600 with 2 Axes>"
      ]
     },
     "metadata": {},
     "output_type": "display_data"
    }
   ],
   "source": [
    "import seaborn as sns\n",
    "import matplotlib.pyplot as plt\n",
    "\n",
    "# Visualize the sample transaction data as a heatmap\n",
    "plt.figure(figsize=(24, 16))\n",
    "sns.heatmap(sample_df.corr(), annot=True, cmap=\"YlGnBu\", fmt='.2f')\n",
    "plt.title(\"Transaction Sample Heatmap\")\n",
    "plt.show()\n"
   ]
  },
  {
   "cell_type": "code",
   "execution_count": 52,
   "metadata": {},
   "outputs": [
    {
     "data": {
      "text/html": [
       "<div>\n",
       "<style scoped>\n",
       "    .dataframe tbody tr th:only-of-type {\n",
       "        vertical-align: middle;\n",
       "    }\n",
       "\n",
       "    .dataframe tbody tr th {\n",
       "        vertical-align: top;\n",
       "    }\n",
       "\n",
       "    .dataframe thead th {\n",
       "        text-align: right;\n",
       "    }\n",
       "</style>\n",
       "<table border=\"1\" class=\"dataframe\">\n",
       "  <thead>\n",
       "    <tr style=\"text-align: right;\">\n",
       "      <th></th>\n",
       "      <th>Carol</th>\n",
       "      <th>Chandler</th>\n",
       "      <th>Charlie</th>\n",
       "      <th>Emily</th>\n",
       "      <th>Gunther</th>\n",
       "      <th>Janice</th>\n",
       "      <th>Joey</th>\n",
       "      <th>Man</th>\n",
       "      <th>Mike</th>\n",
       "      <th>Monica</th>\n",
       "      <th>Phoebe</th>\n",
       "      <th>Rachel</th>\n",
       "      <th>Richard</th>\n",
       "      <th>Ross</th>\n",
       "      <th>Susan</th>\n",
       "      <th>Tag</th>\n",
       "    </tr>\n",
       "  </thead>\n",
       "  <tbody>\n",
       "    <tr>\n",
       "      <th>1517</th>\n",
       "      <td>False</td>\n",
       "      <td>False</td>\n",
       "      <td>False</td>\n",
       "      <td>False</td>\n",
       "      <td>False</td>\n",
       "      <td>False</td>\n",
       "      <td>False</td>\n",
       "      <td>False</td>\n",
       "      <td>False</td>\n",
       "      <td>False</td>\n",
       "      <td>True</td>\n",
       "      <td>True</td>\n",
       "      <td>False</td>\n",
       "      <td>False</td>\n",
       "      <td>False</td>\n",
       "      <td>False</td>\n",
       "    </tr>\n",
       "    <tr>\n",
       "      <th>2369</th>\n",
       "      <td>False</td>\n",
       "      <td>True</td>\n",
       "      <td>False</td>\n",
       "      <td>False</td>\n",
       "      <td>False</td>\n",
       "      <td>False</td>\n",
       "      <td>False</td>\n",
       "      <td>False</td>\n",
       "      <td>False</td>\n",
       "      <td>True</td>\n",
       "      <td>False</td>\n",
       "      <td>False</td>\n",
       "      <td>False</td>\n",
       "      <td>True</td>\n",
       "      <td>False</td>\n",
       "      <td>False</td>\n",
       "    </tr>\n",
       "    <tr>\n",
       "      <th>1961</th>\n",
       "      <td>False</td>\n",
       "      <td>True</td>\n",
       "      <td>False</td>\n",
       "      <td>False</td>\n",
       "      <td>False</td>\n",
       "      <td>False</td>\n",
       "      <td>False</td>\n",
       "      <td>False</td>\n",
       "      <td>False</td>\n",
       "      <td>True</td>\n",
       "      <td>False</td>\n",
       "      <td>False</td>\n",
       "      <td>False</td>\n",
       "      <td>False</td>\n",
       "      <td>False</td>\n",
       "      <td>False</td>\n",
       "    </tr>\n",
       "    <tr>\n",
       "      <th>343</th>\n",
       "      <td>False</td>\n",
       "      <td>False</td>\n",
       "      <td>False</td>\n",
       "      <td>False</td>\n",
       "      <td>False</td>\n",
       "      <td>False</td>\n",
       "      <td>False</td>\n",
       "      <td>False</td>\n",
       "      <td>False</td>\n",
       "      <td>False</td>\n",
       "      <td>True</td>\n",
       "      <td>False</td>\n",
       "      <td>False</td>\n",
       "      <td>True</td>\n",
       "      <td>False</td>\n",
       "      <td>False</td>\n",
       "    </tr>\n",
       "    <tr>\n",
       "      <th>2663</th>\n",
       "      <td>False</td>\n",
       "      <td>True</td>\n",
       "      <td>False</td>\n",
       "      <td>False</td>\n",
       "      <td>False</td>\n",
       "      <td>False</td>\n",
       "      <td>True</td>\n",
       "      <td>False</td>\n",
       "      <td>False</td>\n",
       "      <td>True</td>\n",
       "      <td>True</td>\n",
       "      <td>False</td>\n",
       "      <td>False</td>\n",
       "      <td>False</td>\n",
       "      <td>False</td>\n",
       "      <td>False</td>\n",
       "    </tr>\n",
       "    <tr>\n",
       "      <th>...</th>\n",
       "      <td>...</td>\n",
       "      <td>...</td>\n",
       "      <td>...</td>\n",
       "      <td>...</td>\n",
       "      <td>...</td>\n",
       "      <td>...</td>\n",
       "      <td>...</td>\n",
       "      <td>...</td>\n",
       "      <td>...</td>\n",
       "      <td>...</td>\n",
       "      <td>...</td>\n",
       "      <td>...</td>\n",
       "      <td>...</td>\n",
       "      <td>...</td>\n",
       "      <td>...</td>\n",
       "      <td>...</td>\n",
       "    </tr>\n",
       "    <tr>\n",
       "      <th>801</th>\n",
       "      <td>False</td>\n",
       "      <td>True</td>\n",
       "      <td>False</td>\n",
       "      <td>False</td>\n",
       "      <td>False</td>\n",
       "      <td>False</td>\n",
       "      <td>True</td>\n",
       "      <td>False</td>\n",
       "      <td>False</td>\n",
       "      <td>False</td>\n",
       "      <td>False</td>\n",
       "      <td>False</td>\n",
       "      <td>False</td>\n",
       "      <td>True</td>\n",
       "      <td>False</td>\n",
       "      <td>False</td>\n",
       "    </tr>\n",
       "    <tr>\n",
       "      <th>463</th>\n",
       "      <td>False</td>\n",
       "      <td>True</td>\n",
       "      <td>False</td>\n",
       "      <td>False</td>\n",
       "      <td>False</td>\n",
       "      <td>False</td>\n",
       "      <td>True</td>\n",
       "      <td>False</td>\n",
       "      <td>False</td>\n",
       "      <td>False</td>\n",
       "      <td>False</td>\n",
       "      <td>False</td>\n",
       "      <td>False</td>\n",
       "      <td>True</td>\n",
       "      <td>False</td>\n",
       "      <td>False</td>\n",
       "    </tr>\n",
       "    <tr>\n",
       "      <th>1423</th>\n",
       "      <td>False</td>\n",
       "      <td>True</td>\n",
       "      <td>False</td>\n",
       "      <td>False</td>\n",
       "      <td>False</td>\n",
       "      <td>False</td>\n",
       "      <td>True</td>\n",
       "      <td>False</td>\n",
       "      <td>False</td>\n",
       "      <td>True</td>\n",
       "      <td>True</td>\n",
       "      <td>True</td>\n",
       "      <td>False</td>\n",
       "      <td>True</td>\n",
       "      <td>False</td>\n",
       "      <td>False</td>\n",
       "    </tr>\n",
       "    <tr>\n",
       "      <th>1177</th>\n",
       "      <td>False</td>\n",
       "      <td>False</td>\n",
       "      <td>False</td>\n",
       "      <td>False</td>\n",
       "      <td>False</td>\n",
       "      <td>False</td>\n",
       "      <td>False</td>\n",
       "      <td>False</td>\n",
       "      <td>False</td>\n",
       "      <td>False</td>\n",
       "      <td>False</td>\n",
       "      <td>False</td>\n",
       "      <td>False</td>\n",
       "      <td>False</td>\n",
       "      <td>False</td>\n",
       "      <td>False</td>\n",
       "    </tr>\n",
       "    <tr>\n",
       "      <th>2414</th>\n",
       "      <td>False</td>\n",
       "      <td>True</td>\n",
       "      <td>False</td>\n",
       "      <td>False</td>\n",
       "      <td>True</td>\n",
       "      <td>False</td>\n",
       "      <td>True</td>\n",
       "      <td>False</td>\n",
       "      <td>False</td>\n",
       "      <td>True</td>\n",
       "      <td>True</td>\n",
       "      <td>True</td>\n",
       "      <td>False</td>\n",
       "      <td>False</td>\n",
       "      <td>False</td>\n",
       "      <td>False</td>\n",
       "    </tr>\n",
       "  </tbody>\n",
       "</table>\n",
       "<p>152 rows × 16 columns</p>\n",
       "</div>"
      ],
      "text/plain": [
       "      Carol  Chandler  Charlie  Emily  Gunther  Janice   Joey    Man   Mike  \\\n",
       "1517  False     False    False  False    False   False  False  False  False   \n",
       "2369  False      True    False  False    False   False  False  False  False   \n",
       "1961  False      True    False  False    False   False  False  False  False   \n",
       "343   False     False    False  False    False   False  False  False  False   \n",
       "2663  False      True    False  False    False   False   True  False  False   \n",
       "...     ...       ...      ...    ...      ...     ...    ...    ...    ...   \n",
       "801   False      True    False  False    False   False   True  False  False   \n",
       "463   False      True    False  False    False   False   True  False  False   \n",
       "1423  False      True    False  False    False   False   True  False  False   \n",
       "1177  False     False    False  False    False   False  False  False  False   \n",
       "2414  False      True    False  False     True   False   True  False  False   \n",
       "\n",
       "      Monica  Phoebe  Rachel  Richard   Ross  Susan    Tag  \n",
       "1517   False    True    True    False  False  False  False  \n",
       "2369    True   False   False    False   True  False  False  \n",
       "1961    True   False   False    False  False  False  False  \n",
       "343    False    True   False    False   True  False  False  \n",
       "2663    True    True   False    False  False  False  False  \n",
       "...      ...     ...     ...      ...    ...    ...    ...  \n",
       "801    False   False   False    False   True  False  False  \n",
       "463    False   False   False    False   True  False  False  \n",
       "1423    True    True    True    False   True  False  False  \n",
       "1177   False   False   False    False  False  False  False  \n",
       "2414    True    True    True    False  False  False  False  \n",
       "\n",
       "[152 rows x 16 columns]"
      ]
     },
     "execution_count": 52,
     "metadata": {},
     "output_type": "execute_result"
    }
   ],
   "source": [
    "sample_df"
   ]
  },
  {
   "cell_type": "code",
   "execution_count": 54,
   "metadata": {},
   "outputs": [
    {
     "data": {
      "image/png": "[encoded data removed]",
      "text/plain": [
       "<Figure size 640x480 with 1 Axes>"
      ]
     },
     "metadata": {},
     "output_type": "display_data"
    }
   ],
   "source": [
    "# Sum up the occurrences for characters\n",
    "item_freq = sample_df.sum().sort_values(ascending=False)\n",
    "\n",
    "# Plot top 20 frequent items\n",
    "item_freq.head(20).plot(kind='bar', color='skyblue')\n",
    "plt.title('Top 20 Most Frequent Items')\n",
    "plt.xlabel('Character')\n",
    "plt.ylabel('Frequency')\n",
    "plt.xticks(rotation=90)\n",
    "plt.show()\n"
   ]
  },
  {
   "cell_type": "code",
   "execution_count": 67,
   "metadata": {},
   "outputs": [
    {
     "name": "stderr",
     "output_type": "stream",
     "text": [
      "/usr/local/lib/python3.9/site-packages/mlxtend/frequent_patterns/fpcommon.py:161: DeprecationWarning: DataFrames with non-bool types result in worse computationalperformance and their support might be discontinued in the future.Please use a DataFrame with bool type\n",
      "  warnings.warn(\n",
      "/var/folders/yb/yccw901n49qckq1d4dzj8cgh0000gn/T/ipykernel_14873/4269519966.py:15: FutureWarning: \n",
      "\n",
      "Passing `palette` without assigning `hue` is deprecated and will be removed in v0.14.0. Assign the `x` variable to `hue` and set `legend=False` for the same effect.\n",
      "\n",
      "  sns.countplot(x=itemset_sizes, palette='Blues')\n"
     ]
    },
    {
     "data": {
      "image/png": "[encoded data removed]",
      "text/plain": [
       "<Figure size 800x600 with 1 Axes>"
      ]
     },
     "metadata": {},
     "output_type": "display_data"
    }
   ],
   "source": [
    "from mlxtend.frequent_patterns import apriori\n",
    "import matplotlib.pyplot as plt\n",
    "import seaborn as sns\n",
    "\n",
    "df_bin = filtered_df.drop(columns=['scene_number', 'script_file']).applymap(lambda x: 1 if x > 0 else 0)\n",
    "\n",
    "# Run apriori algorithm\n",
    "frequent_itemsets = apriori(df_bin, min_support=0.00008, use_colnames=True)\n",
    "\n",
    "# Calculate the itemset sizes\n",
    "itemset_sizes = frequent_itemsets['itemsets'].apply(lambda x: len(x))\n",
    "\n",
    "# Plot the distribution of itemset sizes\n",
    "plt.figure(figsize=(8, 6))\n",
    "sns.countplot(x=itemset_sizes, palette='Blues')\n",
    "plt.title('Itemset Size Distribution')\n",
    "plt.xlabel('Itemset Size')\n",
    "plt.ylabel('Frequency')\n",
    "plt.show()\n"
   ]
  },
  {
   "cell_type": "code",
   "execution_count": 68,
   "metadata": {},
   "outputs": [
    {
     "name": "stdout",
     "output_type": "stream",
     "text": [
      "      support                                           itemsets\n",
      "816  0.000328    (Joey, Chandler, Monica, Phoebe, Rachel, Carol)\n",
      "817  0.000984      (Joey, Chandler, Monica, Phoebe, Carol, Ross)\n",
      "818  0.000984     (Joey, Chandler, Monica, Phoebe, Carol, Susan)\n",
      "819  0.000656      (Joey, Chandler, Monica, Rachel, Carol, Ross)\n",
      "820  0.000656     (Joey, Chandler, Monica, Rachel, Carol, Susan)\n",
      "..        ...                                                ...\n",
      "955  0.000328  (Joey, Monica, Gunther, Phoebe, Rachel, Emily,...\n",
      "956  0.000328  (Joey, Mike, Monica, Gunther, Phoebe, Rachel, ...\n",
      "957  0.000328  (Joey, Chandler, Monica, Phoebe, Rachel, Carol...\n",
      "958  0.000328  (Joey, Chandler, Monica, Gunther, Phoebe, Rach...\n",
      "959  0.000328  (Joey, Chandler, Mike, Monica, Gunther, Phoebe...\n",
      "\n",
      "[144 rows x 2 columns]\n"
     ]
    }
   ],
   "source": [
    "# Inspect itemsets where the size is greater than 5\n",
    "large_itemsets = frequent_itemsets[frequent_itemsets['itemsets'].apply(len) > 5]\n",
    "print(large_itemsets)\n"
   ]
  },
  {
   "cell_type": "code",
   "execution_count": 69,
   "metadata": {},
   "outputs": [
    {
     "name": "stderr",
     "output_type": "stream",
     "text": [
      "/usr/local/lib/python3.9/site-packages/mlxtend/frequent_patterns/fpcommon.py:161: DeprecationWarning: DataFrames with non-bool types result in worse computationalperformance and their support might be discontinued in the future.Please use a DataFrame with bool type\n",
      "  warnings.warn(\n"
     ]
    },
    {
     "name": "stdout",
     "output_type": "stream",
     "text": [
      "                  antecedents                                     consequents  \\\n",
      "0                     (Carol)                                          (Ross)   \n",
      "1                     (Susan)                                         (Carol)   \n",
      "2                     (Carol)                                         (Susan)   \n",
      "3                   (Gunther)                                      (Chandler)   \n",
      "4                    (Janice)                                      (Chandler)   \n",
      "...                       ...                                             ...   \n",
      "7078  (Mike, Gunther, Monica)          (Joey, Chandler, Phoebe, Rachel, Ross)   \n",
      "7079  (Mike, Gunther, Phoebe)          (Joey, Chandler, Monica, Rachel, Ross)   \n",
      "7080  (Mike, Gunther, Rachel)          (Joey, Chandler, Monica, Phoebe, Ross)   \n",
      "7081    (Mike, Gunther, Ross)        (Joey, Chandler, Monica, Phoebe, Rachel)   \n",
      "7082          (Mike, Gunther)  (Joey, Chandler, Monica, Phoebe, Rachel, Ross)   \n",
      "\n",
      "      antecedent support  consequent support   support  confidence       lift  \\\n",
      "0               0.012459            0.412787  0.011475    0.921053   2.231303   \n",
      "1               0.008852            0.012459  0.006885    0.777778  62.426901   \n",
      "2               0.012459            0.008852  0.006885    0.552632  62.426901   \n",
      "3               0.020656            0.444590  0.011148    0.539683   1.213888   \n",
      "4               0.014426            0.444590  0.011148    0.772727   1.738067   \n",
      "...                  ...                 ...       ...         ...        ...   \n",
      "7078            0.000328            0.097377  0.000328    1.000000  10.269360   \n",
      "7079            0.000328            0.102951  0.000328    1.000000   9.713376   \n",
      "7080            0.000328            0.102295  0.000328    1.000000   9.775641   \n",
      "7081            0.000328            0.108525  0.000328    1.000000   9.214502   \n",
      "7082            0.000328            0.089836  0.000328    1.000000  11.131387   \n",
      "\n",
      "      representativity  leverage  conviction  zhangs_metric   jaccard  \\\n",
      "0                  1.0  0.006332    7.438033       0.558793  0.027734   \n",
      "1                  1.0  0.006775    4.443934       0.992770  0.477273   \n",
      "2                  1.0  0.006775    2.215506       0.996395  0.477273   \n",
      "3                  1.0  0.001964    1.206580       0.179917  0.024549   \n",
      "4                  1.0  0.004734    2.443803       0.430864  0.024890   \n",
      "...                ...       ...         ...            ...       ...   \n",
      "7078               1.0  0.000296         inf       0.902919  0.003367   \n",
      "7079               1.0  0.000294         inf       0.897343  0.003185   \n",
      "7080               1.0  0.000294         inf       0.897999  0.003205   \n",
      "7081               1.0  0.000292         inf       0.891768  0.003021   \n",
      "7082               1.0  0.000298         inf       0.910462  0.003650   \n",
      "\n",
      "      certainty  kulczynski  \n",
      "0      0.865556    0.474426  \n",
      "1      0.774974    0.665205  \n",
      "2      0.548636    0.665205  \n",
      "3      0.171211    0.282378  \n",
      "4      0.590802    0.398901  \n",
      "...         ...         ...  \n",
      "7078   1.000000    0.501684  \n",
      "7079   1.000000    0.501592  \n",
      "7080   1.000000    0.501603  \n",
      "7081   1.000000    0.501511  \n",
      "7082   1.000000    0.501825  \n",
      "\n",
      "[7083 rows x 14 columns]\n"
     ]
    }
   ],
   "source": [
    "from mlxtend.frequent_patterns import apriori, association_rules\n",
    "\n",
    "# Apply apriori algorithm\n",
    "frequent_itemsets = apriori(df_bin, min_support=0.00008, use_colnames=True)\n",
    "\n",
    "# Generate association rules\n",
    "rules = association_rules(frequent_itemsets, metric=\"confidence\", min_threshold=0.5)\n",
    "\n",
    "# Show the rules\n",
    "print(rules)\n"
   ]
  },
  {
   "cell_type": "code",
   "execution_count": 75,
   "metadata": {},
   "outputs": [
    {
     "name": "stdout",
     "output_type": "stream",
     "text": [
      "                          antecedents                      consequents  \\\n",
      "3821                    (Joey, Susan)  (Ross, Monica, Carol, Chandler)   \n",
      "3803  (Ross, Monica, Carol, Chandler)                    (Joey, Susan)   \n",
      "1629                    (Joey, Susan)          (Ross, Carol, Chandler)   \n",
      "1625          (Ross, Carol, Chandler)                    (Joey, Susan)   \n",
      "1725            (Ross, Phoebe, Carol)                (Susan, Chandler)   \n",
      "\n",
      "       support  confidence        lift  kulczynski  \n",
      "3821  0.001311    0.800000  488.000000    0.800000  \n",
      "3803  0.001311    0.800000  488.000000    0.800000  \n",
      "1629  0.001639    1.000000  338.888889    0.777778  \n",
      "1625  0.001639    0.555556  338.888889    0.777778  \n",
      "1725  0.001967    0.750000  285.937500    0.750000  \n"
     ]
    }
   ],
   "source": [
    "# Convert frequent_itemsets to a dictionary for quick lookups\n",
    "itemsets_dict = frequent_itemsets.set_index('itemsets')['support'].to_dict()\n",
    "\n",
    "# Add lhs_support and rhs_support to the rules\n",
    "rules['lhs_support'] = rules['antecedents'].apply(lambda x: itemsets_dict.get(frozenset(x), 0))\n",
    "rules['rhs_support'] = rules['consequents'].apply(lambda x: itemsets_dict.get(frozenset(x), 0))\n",
    "\n",
    "# Subset rules\n",
    "rules_sub = rules\n",
    "\n",
    "\n",
    "# Calculate Kulczynski measure\n",
    "rules_sub['kulczynski'] = (\n",
    "    (rules_sub['support'] / rules_sub['lhs_support']) + \n",
    "    (rules_sub['support'] / rules_sub['rhs_support'])\n",
    ") / 2\n",
    "\n",
    "# Display top 5 rules by Kulczynski\n",
    "top_rules = rules_sub.sort_values('kulczynski', ascending=False).head(5)\n",
    "print(top_rules[['antecedents', 'consequents', 'support', 'confidence', 'lift', 'kulczynski']])\n"
   ]
  },
  {
   "cell_type": "code",
   "execution_count": 78,
   "metadata": {},
   "outputs": [
    {
     "data": {
      "text/html": [
       "<div>\n",
       "<style scoped>\n",
       "    .dataframe tbody tr th:only-of-type {\n",
       "        vertical-align: middle;\n",
       "    }\n",
       "\n",
       "    .dataframe tbody tr th {\n",
       "        vertical-align: top;\n",
       "    }\n",
       "\n",
       "    .dataframe thead th {\n",
       "        text-align: right;\n",
       "    }\n",
       "</style>\n",
       "<table border=\"1\" class=\"dataframe\">\n",
       "  <thead>\n",
       "    <tr style=\"text-align: right;\">\n",
       "      <th></th>\n",
       "      <th>antecedents</th>\n",
       "      <th>consequents</th>\n",
       "      <th>antecedent support</th>\n",
       "      <th>consequent support</th>\n",
       "      <th>support</th>\n",
       "      <th>confidence</th>\n",
       "      <th>lift</th>\n",
       "      <th>representativity</th>\n",
       "      <th>leverage</th>\n",
       "      <th>conviction</th>\n",
       "      <th>zhangs_metric</th>\n",
       "      <th>jaccard</th>\n",
       "      <th>certainty</th>\n",
       "      <th>kulczynski</th>\n",
       "      <th>lhs_size</th>\n",
       "      <th>rhs_size</th>\n",
       "      <th>lhs_support</th>\n",
       "      <th>rhs_support</th>\n",
       "    </tr>\n",
       "  </thead>\n",
       "  <tbody>\n",
       "    <tr>\n",
       "      <th>3821</th>\n",
       "      <td>(Joey, Susan)</td>\n",
       "      <td>(Ross, Monica, Carol, Chandler)</td>\n",
       "      <td>0.001639</td>\n",
       "      <td>0.001639</td>\n",
       "      <td>0.001311</td>\n",
       "      <td>0.800000</td>\n",
       "      <td>488.000000</td>\n",
       "      <td>1.0</td>\n",
       "      <td>0.001309</td>\n",
       "      <td>4.991803</td>\n",
       "      <td>0.999589</td>\n",
       "      <td>0.666667</td>\n",
       "      <td>0.799672</td>\n",
       "      <td>0.800000</td>\n",
       "      <td>2</td>\n",
       "      <td>4</td>\n",
       "      <td>0.001639</td>\n",
       "      <td>0.001639</td>\n",
       "    </tr>\n",
       "    <tr>\n",
       "      <th>3803</th>\n",
       "      <td>(Ross, Monica, Carol, Chandler)</td>\n",
       "      <td>(Joey, Susan)</td>\n",
       "      <td>0.001639</td>\n",
       "      <td>0.001639</td>\n",
       "      <td>0.001311</td>\n",
       "      <td>0.800000</td>\n",
       "      <td>488.000000</td>\n",
       "      <td>1.0</td>\n",
       "      <td>0.001309</td>\n",
       "      <td>4.991803</td>\n",
       "      <td>0.999589</td>\n",
       "      <td>0.666667</td>\n",
       "      <td>0.799672</td>\n",
       "      <td>0.800000</td>\n",
       "      <td>4</td>\n",
       "      <td>2</td>\n",
       "      <td>0.001639</td>\n",
       "      <td>0.001639</td>\n",
       "    </tr>\n",
       "    <tr>\n",
       "      <th>1629</th>\n",
       "      <td>(Joey, Susan)</td>\n",
       "      <td>(Ross, Carol, Chandler)</td>\n",
       "      <td>0.001639</td>\n",
       "      <td>0.002951</td>\n",
       "      <td>0.001639</td>\n",
       "      <td>1.000000</td>\n",
       "      <td>338.888889</td>\n",
       "      <td>1.0</td>\n",
       "      <td>0.001635</td>\n",
       "      <td>inf</td>\n",
       "      <td>0.998686</td>\n",
       "      <td>0.555556</td>\n",
       "      <td>1.000000</td>\n",
       "      <td>0.777778</td>\n",
       "      <td>2</td>\n",
       "      <td>3</td>\n",
       "      <td>0.001639</td>\n",
       "      <td>0.002951</td>\n",
       "    </tr>\n",
       "    <tr>\n",
       "      <th>1625</th>\n",
       "      <td>(Ross, Carol, Chandler)</td>\n",
       "      <td>(Joey, Susan)</td>\n",
       "      <td>0.002951</td>\n",
       "      <td>0.001639</td>\n",
       "      <td>0.001639</td>\n",
       "      <td>0.555556</td>\n",
       "      <td>338.888889</td>\n",
       "      <td>1.0</td>\n",
       "      <td>0.001635</td>\n",
       "      <td>2.246311</td>\n",
       "      <td>1.000000</td>\n",
       "      <td>0.555556</td>\n",
       "      <td>0.554826</td>\n",
       "      <td>0.777778</td>\n",
       "      <td>3</td>\n",
       "      <td>2</td>\n",
       "      <td>0.002951</td>\n",
       "      <td>0.001639</td>\n",
       "    </tr>\n",
       "    <tr>\n",
       "      <th>1725</th>\n",
       "      <td>(Ross, Phoebe, Carol)</td>\n",
       "      <td>(Susan, Chandler)</td>\n",
       "      <td>0.002623</td>\n",
       "      <td>0.002623</td>\n",
       "      <td>0.001967</td>\n",
       "      <td>0.750000</td>\n",
       "      <td>285.937500</td>\n",
       "      <td>1.0</td>\n",
       "      <td>0.001960</td>\n",
       "      <td>3.989508</td>\n",
       "      <td>0.999123</td>\n",
       "      <td>0.600000</td>\n",
       "      <td>0.749343</td>\n",
       "      <td>0.750000</td>\n",
       "      <td>3</td>\n",
       "      <td>2</td>\n",
       "      <td>0.002623</td>\n",
       "      <td>0.002623</td>\n",
       "    </tr>\n",
       "  </tbody>\n",
       "</table>\n",
       "</div>"
      ],
      "text/plain": [
       "                          antecedents                      consequents  \\\n",
       "3821                    (Joey, Susan)  (Ross, Monica, Carol, Chandler)   \n",
       "3803  (Ross, Monica, Carol, Chandler)                    (Joey, Susan)   \n",
       "1629                    (Joey, Susan)          (Ross, Carol, Chandler)   \n",
       "1625          (Ross, Carol, Chandler)                    (Joey, Susan)   \n",
       "1725            (Ross, Phoebe, Carol)                (Susan, Chandler)   \n",
       "\n",
       "      antecedent support  consequent support   support  confidence  \\\n",
       "3821            0.001639            0.001639  0.001311    0.800000   \n",
       "3803            0.001639            0.001639  0.001311    0.800000   \n",
       "1629            0.001639            0.002951  0.001639    1.000000   \n",
       "1625            0.002951            0.001639  0.001639    0.555556   \n",
       "1725            0.002623            0.002623  0.001967    0.750000   \n",
       "\n",
       "            lift  representativity  leverage  conviction  zhangs_metric  \\\n",
       "3821  488.000000               1.0  0.001309    4.991803       0.999589   \n",
       "3803  488.000000               1.0  0.001309    4.991803       0.999589   \n",
       "1629  338.888889               1.0  0.001635         inf       0.998686   \n",
       "1625  338.888889               1.0  0.001635    2.246311       1.000000   \n",
       "1725  285.937500               1.0  0.001960    3.989508       0.999123   \n",
       "\n",
       "       jaccard  certainty  kulczynski  lhs_size  rhs_size  lhs_support  \\\n",
       "3821  0.666667   0.799672    0.800000         2         4     0.001639   \n",
       "3803  0.666667   0.799672    0.800000         4         2     0.001639   \n",
       "1629  0.555556   1.000000    0.777778         2         3     0.001639   \n",
       "1625  0.555556   0.554826    0.777778         3         2     0.002951   \n",
       "1725  0.600000   0.749343    0.750000         3         2     0.002623   \n",
       "\n",
       "      rhs_support  \n",
       "3821     0.001639  \n",
       "3803     0.001639  \n",
       "1629     0.002951  \n",
       "1625     0.001639  \n",
       "1725     0.002623  "
      ]
     },
     "execution_count": 78,
     "metadata": {},
     "output_type": "execute_result"
    }
   ],
   "source": [
    "top_rules"
   ]
  },
  {
   "cell_type": "code",
   "execution_count": 79,
   "metadata": {},
   "outputs": [
    {
     "data": {
      "image/png": "[encoded data removed]",
      "text/plain": [
       "<Figure size 1000x600 with 1 Axes>"
      ]
     },
     "metadata": {},
     "output_type": "display_data"
    }
   ],
   "source": [
    "import seaborn as sns\n",
    "import matplotlib.pyplot as plt\n",
    "\n",
    "# Filter rules with a minimum lift value for better visualization\n",
    "rules_filtered = rules[rules['lift'] > 1].copy()\n",
    "\n",
    "# Plot lift vs confidence, sized by support\n",
    "plt.figure(figsize=(10, 6))\n",
    "scatter = sns.scatterplot(\n",
    "    data=rules_filtered,\n",
    "    x='confidence',\n",
    "    y='lift',\n",
    "    size='support',\n",
    "    sizes=(10, 200),\n",
    "    hue='support',\n",
    "    palette='viridis'\n",
    ")\n",
    "\n",
    "scatter.set_title('Association Rules')\n",
    "scatter.set_xlabel('Confidence')\n",
    "scatter.set_ylabel('Lift')\n",
    "\n",
    "plt.legend(bbox_to_anchor=(1.05, 1), loc='upper left')\n",
    "plt.tight_layout()\n",
    "plt.show()\n"
   ]
  },
  {
   "cell_type": "code",
   "execution_count": 80,
   "metadata": {},
   "outputs": [
    {
     "data": {
      "application/vnd.plotly.v1+json": {
       "config": {
        "plotlyServerURL": "https://plot.ly"
       },
       "data": [
        {
         "dimensions": [
          {
           "label": "support",
           "values": [
            0.0003278688524590164,
            0.0003278688524590164,
            0.0003278688524590164,
            0.0003278688524590164,
            0.0003278688524590164,
            0.0003278688524590164,
            0.0003278688524590164,
            0.0003278688524590164,
            0.0003278688524590164,
            0.0003278688524590164,
            0.0003278688524590164,
            0.0003278688524590164,
            0.0003278688524590164,
            0.0003278688524590164,
            0.0003278688524590164,
            0.0003278688524590164,
            0.0003278688524590164,
            0.0003278688524590164,
            0.0003278688524590164,
            0.0003278688524590164
           ]
          },
          {
           "label": "confidence",
           "values": [
            1,
            1,
            1,
            0.5,
            0.5,
            1,
            0.5,
            1,
            1,
            0.5,
            0.5,
            0.5,
            0.5,
            0.5,
            0.5,
            1,
            1,
            1,
            0.5,
            0.5
           ]
          },
          {
           "label": "lift",
           "values": [
            112.96296296296296,
            2.4225575853852264,
            80.26315789473684,
            1.2634631317315659,
            1.1803405572755419,
            2.2492625368731565,
            1.1588145896656534,
            112.96296296296296,
            87.14285714285715,
            152.5,
            2.563025210084034,
            190.625,
            217.85714285714286,
            2.584745762711864,
            169.44444444444446,
            381.25,
            4.565868263473054,
            305,
            2.447833065810594,
            1.7173423423423422
           ]
          }
         ],
         "domain": {
          "x": [
           0,
           1
          ],
          "y": [
           0,
           1
          ]
         },
         "line": {
          "color": [
           112.96296296296296,
           2.4225575853852264,
           80.26315789473684,
           1.2634631317315659,
           1.1803405572755419,
           2.2492625368731565,
           1.1588145896656534,
           112.96296296296296,
           87.14285714285715,
           152.5,
           2.563025210084034,
           190.625,
           217.85714285714286,
           2.584745762711864,
           169.44444444444446,
           381.25,
           4.565868263473054,
           305,
           2.447833065810594,
           1.7173423423423422
          ],
          "coloraxis": "coloraxis"
         },
         "name": "",
         "type": "parcoords"
        }
       ],
       "layout": {
        "coloraxis": {
         "colorbar": {
          "title": {
           "text": "lift"
          }
         },
         "colorscale": [
          [
           0,
           "#440154"
          ],
          [
           0.1111111111111111,
           "#482878"
          ],
          [
           0.2222222222222222,
           "#3e4989"
          ],
          [
           0.3333333333333333,
           "#31688e"
          ],
          [
           0.4444444444444444,
           "#26828e"
          ],
          [
           0.5555555555555556,
           "#1f9e89"
          ],
          [
           0.6666666666666666,
           "#35b779"
          ],
          [
           0.7777777777777778,
           "#6ece58"
          ],
          [
           0.8888888888888888,
           "#b5de2b"
          ],
          [
           1,
           "#fde725"
          ]
         ]
        },
        "legend": {
         "tracegroupgap": 0
        },
        "template": {
         "data": {
          "bar": [
           {
            "error_x": {
             "color": "#2a3f5f"
            },
            "error_y": {
             "color": "#2a3f5f"
            },
            "marker": {
             "line": {
              "color": "#E5ECF6",
              "width": 0.5
             },
             "pattern": {
              "fillmode": "overlay",
              "size": 10,
              "solidity": 0.2
             }
            },
            "type": "bar"
           }
          ],
          "barpolar": [
           {
            "marker": {
             "line": {
              "color": "#E5ECF6",
              "width": 0.5
             },
             "pattern": {
              "fillmode": "overlay",
              "size": 10,
              "solidity": 0.2
             }
            },
            "type": "barpolar"
           }
          ],
          "carpet": [
           {
            "aaxis": {
             "endlinecolor": "#2a3f5f",
             "gridcolor": "white",
             "linecolor": "white",
             "minorgridcolor": "white",
             "startlinecolor": "#2a3f5f"
            },
            "baxis": {
             "endlinecolor": "#2a3f5f",
             "gridcolor": "white",
             "linecolor": "white",
             "minorgridcolor": "white",
             "startlinecolor": "#2a3f5f"
            },
            "type": "carpet"
           }
          ],
          "choropleth": [
           {
            "colorbar": {
             "outlinewidth": 0,
             "ticks": ""
            },
            "type": "choropleth"
           }
          ],
          "contour": [
           {
            "colorbar": {
             "outlinewidth": 0,
             "ticks": ""
            },
            "colorscale": [
             [
              0,
              "#0d0887"
             ],
             [
              0.1111111111111111,
              "#46039f"
             ],
             [
              0.2222222222222222,
              "#7201a8"
             ],
             [
              0.3333333333333333,
              "#9c179e"
             ],
             [
              0.4444444444444444,
              "#bd3786"
             ],
             [
              0.5555555555555556,
              "#d8576b"
             ],
             [
              0.6666666666666666,
              "#ed7953"
             ],
             [
              0.7777777777777778,
              "#fb9f3a"
             ],
             [
              0.8888888888888888,
              "#fdca26"
             ],
             [
              1,
              "#f0f921"
             ]
            ],
            "type": "contour"
           }
          ],
          "contourcarpet": [
           {
            "colorbar": {
             "outlinewidth": 0,
             "ticks": ""
            },
            "type": "contourcarpet"
           }
          ],
          "heatmap": [
           {
            "colorbar": {
             "outlinewidth": 0,
             "ticks": ""
            },
            "colorscale": [
             [
              0,
              "#0d0887"
             ],
             [
              0.1111111111111111,
              "#46039f"
             ],
             [
              0.2222222222222222,
              "#7201a8"
             ],
             [
              0.3333333333333333,
              "#9c179e"
             ],
             [
              0.4444444444444444,
              "#bd3786"
             ],
             [
              0.5555555555555556,
              "#d8576b"
             ],
             [
              0.6666666666666666,
              "#ed7953"
             ],
             [
              0.7777777777777778,
              "#fb9f3a"
             ],
             [
              0.8888888888888888,
              "#fdca26"
             ],
             [
              1,
              "#f0f921"
             ]
            ],
            "type": "heatmap"
           }
          ],
          "heatmapgl": [
           {
            "colorbar": {
             "outlinewidth": 0,
             "ticks": ""
            },
            "colorscale": [
             [
              0,
              "#0d0887"
             ],
             [
              0.1111111111111111,
              "#46039f"
             ],
             [
              0.2222222222222222,
              "#7201a8"
             ],
             [
              0.3333333333333333,
              "#9c179e"
             ],
             [
              0.4444444444444444,
              "#bd3786"
             ],
             [
              0.5555555555555556,
              "#d8576b"
             ],
             [
              0.6666666666666666,
              "#ed7953"
             ],
             [
              0.7777777777777778,
              "#fb9f3a"
             ],
             [
              0.8888888888888888,
              "#fdca26"
             ],
             [
              1,
              "#f0f921"
             ]
            ],
            "type": "heatmapgl"
           }
          ],
          "histogram": [
           {
            "marker": {
             "pattern": {
              "fillmode": "overlay",
              "size": 10,
              "solidity": 0.2
             }
            },
            "type": "histogram"
           }
          ],
          "histogram2d": [
           {
            "colorbar": {
             "outlinewidth": 0,
             "ticks": ""
            },
            "colorscale": [
             [
              0,
              "#0d0887"
             ],
             [
              0.1111111111111111,
              "#46039f"
             ],
             [
              0.2222222222222222,
              "#7201a8"
             ],
             [
              0.3333333333333333,
              "#9c179e"
             ],
             [
              0.4444444444444444,
              "#bd3786"
             ],
             [
              0.5555555555555556,
              "#d8576b"
             ],
             [
              0.6666666666666666,
              "#ed7953"
             ],
             [
              0.7777777777777778,
              "#fb9f3a"
             ],
             [
              0.8888888888888888,
              "#fdca26"
             ],
             [
              1,
              "#f0f921"
             ]
            ],
            "type": "histogram2d"
           }
          ],
          "histogram2dcontour": [
           {
            "colorbar": {
             "outlinewidth": 0,
             "ticks": ""
            },
            "colorscale": [
             [
              0,
              "#0d0887"
             ],
             [
              0.1111111111111111,
              "#46039f"
             ],
             [
              0.2222222222222222,
              "#7201a8"
             ],
             [
              0.3333333333333333,
              "#9c179e"
             ],
             [
              0.4444444444444444,
              "#bd3786"
             ],
             [
              0.5555555555555556,
              "#d8576b"
             ],
             [
              0.6666666666666666,
              "#ed7953"
             ],
             [
              0.7777777777777778,
              "#fb9f3a"
             ],
             [
              0.8888888888888888,
              "#fdca26"
             ],
             [
              1,
              "#f0f921"
             ]
            ],
            "type": "histogram2dcontour"
           }
          ],
          "mesh3d": [
           {
            "colorbar": {
             "outlinewidth": 0,
             "ticks": ""
            },
            "type": "mesh3d"
           }
          ],
          "parcoords": [
           {
            "line": {
             "colorbar": {
              "outlinewidth": 0,
              "ticks": ""
             }
            },
            "type": "parcoords"
           }
          ],
          "pie": [
           {
            "automargin": true,
            "type": "pie"
           }
          ],
          "scatter": [
           {
            "fillpattern": {
             "fillmode": "overlay",
             "size": 10,
             "solidity": 0.2
            },
            "type": "scatter"
           }
          ],
          "scatter3d": [
           {
            "line": {
             "colorbar": {
              "outlinewidth": 0,
              "ticks": ""
             }
            },
            "marker": {
             "colorbar": {
              "outlinewidth": 0,
              "ticks": ""
             }
            },
            "type": "scatter3d"
           }
          ],
          "scattercarpet": [
           {
            "marker": {
             "colorbar": {
              "outlinewidth": 0,
              "ticks": ""
             }
            },
            "type": "scattercarpet"
           }
          ],
          "scattergeo": [
           {
            "marker": {
             "colorbar": {
              "outlinewidth": 0,
              "ticks": ""
             }
            },
            "type": "scattergeo"
           }
          ],
          "scattergl": [
           {
            "marker": {
             "colorbar": {
              "outlinewidth": 0,
              "ticks": ""
             }
            },
            "type": "scattergl"
           }
          ],
          "scattermapbox": [
           {
            "marker": {
             "colorbar": {
              "outlinewidth": 0,
              "ticks": ""
             }
            },
            "type": "scattermapbox"
           }
          ],
          "scatterpolar": [
           {
            "marker": {
             "colorbar": {
              "outlinewidth": 0,
              "ticks": ""
             }
            },
            "type": "scatterpolar"
           }
          ],
          "scatterpolargl": [
           {
            "marker": {
             "colorbar": {
              "outlinewidth": 0,
              "ticks": ""
             }
            },
            "type": "scatterpolargl"
           }
          ],
          "scatterternary": [
           {
            "marker": {
             "colorbar": {
              "outlinewidth": 0,
              "ticks": ""
             }
            },
            "type": "scatterternary"
           }
          ],
          "surface": [
           {
            "colorbar": {
             "outlinewidth": 0,
             "ticks": ""
            },
            "colorscale": [
             [
              0,
              "#0d0887"
             ],
             [
              0.1111111111111111,
              "#46039f"
             ],
             [
              0.2222222222222222,
              "#7201a8"
             ],
             [
              0.3333333333333333,
              "#9c179e"
             ],
             [
              0.4444444444444444,
              "#bd3786"
             ],
             [
              0.5555555555555556,
              "#d8576b"
             ],
             [
              0.6666666666666666,
              "#ed7953"
             ],
             [
              0.7777777777777778,
              "#fb9f3a"
             ],
             [
              0.8888888888888888,
              "#fdca26"
             ],
             [
              1,
              "#f0f921"
             ]
            ],
            "type": "surface"
           }
          ],
          "table": [
           {
            "cells": {
             "fill": {
              "color": "#EBF0F8"
             },
             "line": {
              "color": "white"
             }
            },
            "header": {
             "fill": {
              "color": "#C8D4E3"
             },
             "line": {
              "color": "white"
             }
            },
            "type": "table"
           }
          ]
         },
         "layout": {
          "annotationdefaults": {
           "arrowcolor": "#2a3f5f",
           "arrowhead": 0,
           "arrowwidth": 1
          },
          "autotypenumbers": "strict",
          "coloraxis": {
           "colorbar": {
            "outlinewidth": 0,
            "ticks": ""
           }
          },
          "colorscale": {
           "diverging": [
            [
             0,
             "#8e0152"
            ],
            [
             0.1,
             "#c51b7d"
            ],
            [
             0.2,
             "#de77ae"
            ],
            [
             0.3,
             "#f1b6da"
            ],
            [
             0.4,
             "#fde0ef"
            ],
            [
             0.5,
             "#f7f7f7"
            ],
            [
             0.6,
             "#e6f5d0"
            ],
            [
             0.7,
             "#b8e186"
            ],
            [
             0.8,
             "#7fbc41"
            ],
            [
             0.9,
             "#4d9221"
            ],
            [
             1,
             "#276419"
            ]
           ],
           "sequential": [
            [
             0,
             "#0d0887"
            ],
            [
             0.1111111111111111,
             "#46039f"
            ],
            [
             0.2222222222222222,
             "#7201a8"
            ],
            [
             0.3333333333333333,
             "#9c179e"
            ],
            [
             0.4444444444444444,
             "#bd3786"
            ],
            [
             0.5555555555555556,
             "#d8576b"
            ],
            [
             0.6666666666666666,
             "#ed7953"
            ],
            [
             0.7777777777777778,
             "#fb9f3a"
            ],
            [
             0.8888888888888888,
             "#fdca26"
            ],
            [
             1,
             "#f0f921"
            ]
           ],
           "sequentialminus": [
            [
             0,
             "#0d0887"
            ],
            [
             0.1111111111111111,
             "#46039f"
            ],
            [
             0.2222222222222222,
             "#7201a8"
            ],
            [
             0.3333333333333333,
             "#9c179e"
            ],
            [
             0.4444444444444444,
             "#bd3786"
            ],
            [
             0.5555555555555556,
             "#d8576b"
            ],
            [
             0.6666666666666666,
             "#ed7953"
            ],
            [
             0.7777777777777778,
             "#fb9f3a"
            ],
            [
             0.8888888888888888,
             "#fdca26"
            ],
            [
             1,
             "#f0f921"
            ]
           ]
          },
          "colorway": [
           "#636efa",
           "#EF553B",
           "#00cc96",
           "#ab63fa",
           "#FFA15A",
           "#19d3f3",
           "#FF6692",
           "#B6E880",
           "#FF97FF",
           "#FECB52"
          ],
          "font": {
           "color": "#2a3f5f"
          },
          "geo": {
           "bgcolor": "white",
           "lakecolor": "white",
           "landcolor": "#E5ECF6",
           "showlakes": true,
           "showland": true,
           "subunitcolor": "white"
          },
          "hoverlabel": {
           "align": "left"
          },
          "hovermode": "closest",
          "mapbox": {
           "style": "light"
          },
          "paper_bgcolor": "white",
          "plot_bgcolor": "#E5ECF6",
          "polar": {
           "angularaxis": {
            "gridcolor": "white",
            "linecolor": "white",
            "ticks": ""
           },
           "bgcolor": "#E5ECF6",
           "radialaxis": {
            "gridcolor": "white",
            "linecolor": "white",
            "ticks": ""
           }
          },
          "scene": {
           "xaxis": {
            "backgroundcolor": "#E5ECF6",
            "gridcolor": "white",
            "gridwidth": 2,
            "linecolor": "white",
            "showbackground": true,
            "ticks": "",
            "zerolinecolor": "white"
           },
           "yaxis": {
            "backgroundcolor": "#E5ECF6",
            "gridcolor": "white",
            "gridwidth": 2,
            "linecolor": "white",
            "showbackground": true,
            "ticks": "",
            "zerolinecolor": "white"
           },
           "zaxis": {
            "backgroundcolor": "#E5ECF6",
            "gridcolor": "white",
            "gridwidth": 2,
            "linecolor": "white",
            "showbackground": true,
            "ticks": "",
            "zerolinecolor": "white"
           }
          },
          "shapedefaults": {
           "line": {
            "color": "#2a3f5f"
           }
          },
          "ternary": {
           "aaxis": {
            "gridcolor": "white",
            "linecolor": "white",
            "ticks": ""
           },
           "baxis": {
            "gridcolor": "white",
            "linecolor": "white",
            "ticks": ""
           },
           "bgcolor": "#E5ECF6",
           "caxis": {
            "gridcolor": "white",
            "linecolor": "white",
            "ticks": ""
           }
          },
          "title": {
           "x": 0.05
          },
          "xaxis": {
           "automargin": true,
           "gridcolor": "white",
           "linecolor": "white",
           "ticks": "",
           "title": {
            "standoff": 15
           },
           "zerolinecolor": "white",
           "zerolinewidth": 2
          },
          "yaxis": {
           "automargin": true,
           "gridcolor": "white",
           "linecolor": "white",
           "ticks": "",
           "title": {
            "standoff": 15
           },
           "zerolinecolor": "white",
           "zerolinewidth": 2
          }
         }
        },
        "title": {
         "text": "Top 20 Rules by Size (Parallel Coordinates Plot)"
        }
       }
      }
     },
     "metadata": {},
     "output_type": "display_data"
    }
   ],
   "source": [
    "import pandas as pd\n",
    "import plotly.express as px\n",
    "\n",
    "# Filter the top 20 rules by size\n",
    "rules['rule_size'] = rules['lhs_size'] + rules['rhs_size']\n",
    "top_rules = rules.nlargest(20, 'rule_size')\n",
    "\n",
    "# Prepare data for plotting\n",
    "top_rules['lhs'] = top_rules['antecedents'].apply(lambda x: ', '.join(list(x)))\n",
    "top_rules['rhs'] = top_rules['consequents'].apply(lambda x: ', '.join(list(x)))\n",
    "\n",
    "# Parallel coordinates plot using Plotly\n",
    "fig = px.parallel_coordinates(\n",
    "    top_rules,\n",
    "    dimensions=['lhs', 'rhs', 'support', 'confidence', 'lift'],\n",
    "    color='lift',\n",
    "    color_continuous_scale=px.colors.sequential.Viridis,\n",
    "    title='Top 20 Rules by Size (Parallel Coordinates Plot)'\n",
    ")\n",
    "\n",
    "fig.show()\n"
   ]
  },
  {
   "cell_type": "code",
   "execution_count": null,
   "metadata": {},
   "outputs": [],
   "source": []
  }
 ],
 "metadata": {
  "kernelspec": {
   "display_name": "Python 3",
   "language": "python",
   "name": "python3"
  },
  "language_info": {
   "codemirror_mode": {
    "name": "ipython",
    "version": 3
   },
   "file_extension": ".py",
   "mimetype": "text/x-python",
   "name": "python",
   "nbconvert_exporter": "python",
   "pygments_lexer": "ipython3",
   "version": "3.9.9"
  }
 },
 "nbformat": 4,
 "nbformat_minor": 2
}
