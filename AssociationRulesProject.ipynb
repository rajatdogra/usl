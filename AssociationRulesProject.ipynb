{
 "cells": [
  {
   "cell_type": "markdown",
   "metadata": {},
   "source": [
    "# Association Rule Project\n",
    "\n",
    "**Goal**: The objective of this project is to identify the pattern in which different characters are associated to each other in a TV show (or even a movie). The methodology is to collect script data and using that identify the characters present in each scene. Once such data is curated we apply association rules to identify how charcaters are related to each other. \n",
    "\n",
    "The idea is, after applying association rules we will be able to identify which characters are assocaited with each other, and how (antecedents or consequents).\n",
    "\n",
    "Let's get started!"
   ]
  },
  {
   "cell_type": "code",
   "execution_count": 28,
   "metadata": {},
   "outputs": [],
   "source": [
    "# Importing all required libraries\n",
    "import os\n",
    "import kagglehub\n",
    "import pandas as pd\n",
    "import re\n",
    "from itertools import combinations\n",
    "import matplotlib.pyplot as plt\n",
    "from mlxtend.frequent_patterns import apriori, association_rules\n",
    "from mlxtend.preprocessing import TransactionEncoder\n",
    "import seaborn as sns\n"
   ]
  },
  {
   "cell_type": "markdown",
   "metadata": {},
   "source": [
    "## We will use a dataset for Friends TV show"
   ]
  },
  {
   "cell_type": "code",
   "execution_count": 12,
   "metadata": {},
   "outputs": [
    {
     "name": "stdout",
     "output_type": "stream",
     "text": [
      "Path to dataset files: /Users/rajat/.cache/kagglehub/datasets/blessondensil294/friends-tv-series-screenplay-script/versions/1\n"
     ]
    }
   ],
   "source": [
    "\n",
    "# Downloading the dataset\n",
    "path = kagglehub.dataset_download(\"blessondensil294/friends-tv-series-screenplay-script\")\n",
    "\n",
    "print(\"Path to dataset files:\", path)\n"
   ]
  },
  {
   "cell_type": "code",
   "execution_count": 13,
   "metadata": {},
   "outputs": [
    {
     "name": "stdout",
     "output_type": "stream",
     "text": [
      "Friends\n",
      "917 - The One With The Memorial Service\n",
      "\n",
      "\n",
      "Story by: Robert Carlock\n",
      "Directed by: Gary Halvorson\n",
      "\n",
      "[Scene: Ross' apartment , Chandler and Joey enter]\n",
      "\n",
      "Chandler: Hey! Ready to go?\n",
      "\n",
      "Ross: Oh yeah, let me just finish this.\n",
      "\n",
      "Joey: Hey Ross, check this out! (he tries to spin a basketball on his fingertip but he throws it against a table) yeah, I can't do that!\n",
      "\n",
      "Chandler: What are you doin'?\n",
      "\n",
      "Ross: Have you seen this? It's a new alumni website for college! It's cool! You can post messages for people, let everyone know what you're up to.\n",
      "\n",
      "Chandler: Great, a faster way to tell people that I'm unemployed and childless .\n",
      "\n",
      "Ross: It's actually kinda interesting to find out what people are doing... remember Andrea Rich?\n",
      "\n",
      "Chandler: The tall girl who wouldn't sleep with you?\n",
      "\n",
      "Ross: Uh uh... well, her Internet Company went under and she lost an ear in a boating accident...\n",
      "\n",
      "Chandler: Bet she'd sleep with you now...\n",
      "\n",
      "Ross: No... I already e-mailed her.\n",
      "\n",
      "Chandler: Let me see what you wrote about yourself: \"Doctor Paleontology, two kids... \" (pause) You split with Carol because you have different interests?... I think you split with Carol because you've one very similar interest!\n",
      "\n",
      "Ross: You know what? I'm gonna finish this later, ok? Let me just grab my coat.\n",
      "\n",
      "Joey: Hey! (he throws the basketball against a table again)\n",
      "\n",
      "Ross: (he picks up the ball) What do you think you learnt how to do in the last two minutes?? (he enters another room)\n",
      "\n",
      "Chandler: Maybe we finish this for him! (he sits down on the sofa and he start typing on Ross' computer) \"Also I cloned a dinosaur in my lab. She's now my girlfriend. I don't care what society says. It's the best sex I've ever had\"... aaand SEND!\n",
      "\n",
      "Joey: (he stops Chandler from posting the message) No, no, no... what do... you can't do that to him!\n",
      "\n",
      "Ross: (he comes back) Alright, let's go!\n",
      "\n",
      "Joey: Dude! (he opens his arms to receive the ball from Ross' hands)\n",
      "\n",
      "Ross: I think you made it clear you cannot be trusted with the ball inside the house!\n",
      "\n",
      "Joey: (after Ross leaves the room) aaand SEND! (he hits the send button)\n",
      "\n",
      "Opening credits\n",
      "\n",
      "[Scene: Joey and Rachel's apartment]\n",
      "\n",
      "Rachel: Hey! How was basketball?\n",
      "\n",
      "Joey: Oh, it was a lot of fun right up until Chandler got a finger in the eye!\n",
      "\n",
      "Rachel: Oh, no! Who did that?\n",
      "\n",
      "Joey: Chandler... hey... (he goes towards his room but he stops near Emma's cot) Rach... what's Hugsy doin' in the crib with Emma? (he looks puzzled)\n",
      "\n",
      "Rachel: She was just crawling around and she found him, so I just let her sleep with him. That's all right? Isn't it?\n",
      "\n",
      "Joey: (still very puzzled) Oh, yeah... of course... yeah... it's a stuffed animal... you know... it's for kids... not for adults... I know that!\n",
      "\n",
      "Rachel: Joey... are you sure? I mean, I know how much you love him!\n",
      "\n",
      "Joey: Rachel... let's be clear on this, ok? I do not love Hugsy. I like him a normal amount...\n",
      "\n",
      "Rachel: All right... Oh, Emma loves him!\n",
      "\n",
      "Joey: Why wouldn't she? He's a wonderful person!\n",
      "\n",
      "[Scene: Central Perk]\n",
      "\n",
      "Phoebe: Hi.\n",
      "\n",
      "Monica: Hey Phoebe... how you doin'? You feelin' better?\n",
      "\n",
      "Phoebe: Breaking up sucks! Oh, I really miss Mike!\n",
      "\n",
      "Chandler: Oh, I'm so sorry!\n",
      "\n",
      "Phoebe: Oh God, I tried everything to make myself feel better. I even tried writing a song about it... but... I can't think of anything that rhymes with AARRGGHH!! (pause) Hey Monica, I really need your help getting through this...\n",
      "\n",
      "Chandler: You're not gonna need my help?\n",
      "\n",
      "Phoebe: Well no, when I get to the point where... you know... I'm ready to hear cruel mocking jokes about Mike... I'm gonna come to you.\n",
      "\n",
      "Chandler: Oh good, 'cause I've already thought of 3... 4! I've just thought of a fourth (he goes towards the counter)\n",
      "\n",
      "Phoebe: Ok. I mean I know I did the right thing. You know, Mike never wants to get married and I shouldn't be in a relationship that has no future... but... pretty soon I'm gonna miss him so much. I'm gonna wanna see him again and you have to stop me from doing that.\n",
      "\n",
      "Monica: Ok, you got it!\n",
      "\n",
      "Phoebe: (after a pause) Unless... Maybe it's too crazy about this... Alright so... you know, there is no future... but that doesn't mean we still can't have fun. You know what? Forget what I said.\n",
      "\n",
      "Monica: Really? If that's what you want...\n",
      "\n",
      "Phoebe: That was a test and you just failed.\n",
      "\n",
      "Monica: Damn it! Rookie mistake!\n",
      "\n",
      "(Ross enters and he's really angry. He goes towards Chandler who's sitting at the counter)\n",
      "\n",
      "Ross: (yelling at Chandler) I have sex with dinosaurs??\n",
      "\n",
      "Chandler: I believe I read that somewhere!\n",
      "\n",
      "Ross: That only is not funny, it's physically impossible! Ok? Depending on the species I'd have to have a six foot long... (pause) It's not funny!!\n",
      "\n",
      "Chandler: I respectfully disagree.\n",
      "\n",
      "Ross: I can't believe you put that on my alumni page!\n",
      "\n",
      "Chandler: Who cares? Nobody reads those things\n",
      "\n",
      "Ross: You'd better hope not because I just read what you put on your page today.\n",
      "\n",
      "Chandler: I don't have a page.\n",
      "\n",
      "Ross: Oh oh oh! I RESPECTFULLY DISAGREE!!\n",
      "\n",
      "[Scene: Rachel's room. Rachel and Emma are sleeping; Joey sneaks in and approaches the crib]\n",
      "\n",
      "Joey: Look at you, all sweet and innocent, sleeping like an angel... with Emma's chubby little hands wrapped around ya. (he picks up Hugsy) It's okay, Emma, you stay asleep. (Emma cries)\n",
      "\n",
      "Rachel: (threatening Joey with a scrunchy): Step away from the crib, I have a weapon!\n",
      "\n",
      "Joey: It's okay, it's okay Rach, it's me. Put down the scrunchy.\n",
      "\n",
      "Rachel: What are you doing?\n",
      "\n",
      "Joey: Well, I heard Emma stirring, so I came to make sure she could reach Hugsy.\n",
      "\n",
      "Rachel: Oh, oh thanks. Alright well, now that I'm up I'm going to go to the bathroom.\n",
      "\n",
      "Joey: (placing Hugsy back in the crib) There you go sweetie... (to Emma) This isn't over.\n",
      "\n",
      "[Scene: Monica and Chandler's. Chandler is looking at the screen of his laptop, shaking his head.]\n",
      "\n",
      "Monica: Alright, wait a second, why would Ross tell everyone in your class that you are as... (reads from the screen) \"gay as the day is long\"?\n",
      "\n",
      "Chandler: Because I told everyone he slept with dinosaurs.\n",
      "\n",
      "Monica: But that's clearly a joke. This could easily be true. (Phone rings)\n",
      "\n",
      "Chandler: Would you get that please? People have been calling to congratulate me all day.\n",
      "\n",
      "Monica: (On the phone) Hello? No, he's not here. Yeah, this is his wife. Yeah, well, it came as quite a shock to me too. I guess I should have known. Yeah, I mean, he just kept making me watch Moulin Rouge.\n",
      "\n",
      "Chandler: Hang up, hang up. And that was a great movie! (Monica hangs up) I'm so gonna get back at Ross... oh yeah, this will show him, here we go (starts typing something).\n",
      "\n",
      "Monica: What are you doing?\n",
      "\n",
      "Chandler: Oh, you'll see my friend.\n",
      "\n",
      "[Time lapse, still Chandler and Monica's, but only Chandler is there. Enter Ross]\n",
      "\n",
      "Ross: (visibly upset) I'm dead?\n",
      "\n",
      "Chandler: (faking sympathy) And so young.\n",
      "\n",
      "Ross: Posting that I died? That really isn't funny.\n",
      "\n",
      "Chandler: Well, how you died was funny.\n",
      "\n",
      "Ross: Oh please, hit by a blimp?\n",
      "\n",
      "Chandler: It kills over one americans every year.\n",
      "\n",
      "Ross: Unbelievable, my classmates are gonna think I'm dead, my professors, my... my parents are gonna get phone calls. You're messing with people's feelings here.\n",
      "\n",
      "Chandler: You wanna talk about people's feelings? You should have heard how hurt professor Stern was yesterday when I told him I wouldn't be able to go with him to Key West!\n",
      "\n",
      "Ross: You've really crossed the line here, but that's okay, it's ok 'cause I'm on my way to buy some Photoshop software and a stack of gay porn. That's right! Your coming out is about to get real graphic.\n",
      "\n",
      "[Scene: Phoebe's apartment]\n",
      "\n",
      "Phoebe: God, I wish Mike were here.\n",
      "\n",
      "Monica: Okay if Mike were here what would the two of you be doing?\n",
      "\n",
      "(Phoebe gives her a meaningful look)\n",
      "\n",
      "Monica: What are you, animals? It's 4 o'clock in the afternoon!\n",
      "\n",
      "Phoebe: I gotta call him. Just to talk to him, there's no harm in that.\n",
      "\n",
      "Monica: Phoebe, that's how it starts. I don't need to eat the cake, I'll just smell the icing... why don't I just eat a little sliver, or, okay, just a slice or two. And next thing you know, you're 210 pounds and you get wedged in going down the tunnel slide. Phoebe, honey, I know this is hard. Look, if you talk to him, you're going to wanna see him. And if you see him, you're going to want to get back together with him. I know that's not what you want. (pause) Give me your phone.\n",
      "\n",
      "Phoebe: Here.\n",
      "\n",
      "Monica: And now your cell.\n",
      "\n",
      "Phoebe: Okay (she takes a huge, clearly obsolete cellphone she keeps in a closet and gives it to Monica)\n",
      "\n",
      "Monica: This is your cellphone?\n",
      "\n",
      "Phoebe: Yes.\n",
      "\n",
      "Monica: This is your current cellphone?\n",
      "\n",
      "Phoebe: Yes, it reminds me of a simpler time.\n",
      "\n",
      "Monica: Phoebe, where's your purse?\n",
      "\n",
      "(They run for Phoebe's purse, Phoebe gets there first and takes the cell. Monica tries to take it away from her)\n",
      "\n",
      "Monica: No, no! Give it to me!\n",
      "\n",
      "Phoebe: You can't have it.\n",
      "\n",
      "Monica: Give it to me!\n",
      "\n",
      "Phoebe: No (tucks it in her pants)\n",
      "\n",
      "Monica: I'll go in there.\n",
      "\n",
      "Phoebe: (disbelievingly) Oh yeah.\n",
      "\n",
      "Monica: Phoebe come here\n",
      "\n",
      "(they fight a little, the phone falls and Monica picks it up)\n",
      "\n",
      "Monica: Haha!\n",
      "\n",
      "Phoebe: Damn you Monica Geller hyphen Bing!\n",
      "\n",
      "[Scene: Joey and Rachel's. Enter Joey]\n",
      "\n",
      "Joey: Hey, look who's here! It's Joey, and he brought home a friend.\n",
      "\n",
      "Rachel: Joey, Emma's right here! You promised not to bring girls home in the middle of the day anymore.\n",
      "\n",
      "Joey: No, no, it's not a girl, it's... a brand new Hugsy!\n",
      "\n",
      "Rachel: Oh that's so great, now Emma has two Hugsy's.\n",
      "\n",
      "Joey: No, no, Emma has one Hugsy, the new Hugsy, huh? The other Hugsy, I don't know, I guess I'll just take it back.\n",
      "\n",
      "Rachel: Oh you know what? When I was a little girl I had a little pink pony named Cotton. Oh I loved her so much, I took her everywhere, I would braid her tail...\n",
      "\n",
      "Joey: Make the transfer! (She does so)\n",
      "\n",
      "Rachel: Should I be concerned that a button fell off the old Hugsy and I can't find it?\n",
      "\n",
      "Joey: Oh, no don't worry about that, I swallowed that years ago.\n",
      "\n",
      "(Emma cries)\n",
      "\n",
      "Rachel: Oh, I don't think she likes the new Hugsy.\n",
      "\n",
      "Joey: But he's the same.\n",
      "\n",
      "Rachel: Yeah, I think she wants the old one back.\n",
      "\n",
      "Joey: But he's the same.\n",
      "\n",
      "Rachel: Joey, come on!\n",
      "\n",
      "Joey: He's the same!\n",
      "\n",
      "(they exchange Hugsy's).\n",
      "\n",
      "Joey: (to the new Hugsy) You're not the same!\n",
      "\n",
      "[Scene: Phoebe's apartment. Enter Monica]\n",
      "\n",
      "Monica: Haha!\n",
      "\n",
      "Phoebe: You know, it's a lot less surprising to do that after I've buzzed you into the building.\n",
      "\n",
      "Monica: So Phoebe, why are there men's shoes by the door.\n",
      "\n",
      "Phoebe: Those are my shoes.\n",
      "\n",
      "Monica: Oh, when you get over this breakup we need to go shopping.\n",
      "\n",
      "Phoebe: Monica, I really appreciate you checking in on me, but I'm actually feeling a lot better. Yeah, I just kinda want to be alone right now.\n",
      "\n",
      "(Someone knocks on the door)\n",
      "\n",
      "Monica: Who's that? (goes to open door)\n",
      "\n",
      "Phoebe: I ordered Chinese food.\n",
      "\n",
      "(Monica opens the door and Mike is standing at the doorway)\n",
      "\n",
      "Phoebe: What are the chances? 1 billion Chinese people and they send Mike!?\n",
      "\n",
      "Monica: (To Mike) What are you doing here?\n",
      "\n",
      "Mike: Phoebe called me.\n",
      "\n",
      "Monica: Phoebe!\n",
      "\n",
      "Phoebe: I'm sorry, I broke down... I wanted to see him.\n",
      "\n",
      "Monica: Damnit Phoebe! How did you even call him?\n",
      "\n",
      "Phoebe: There is a speakerphone on the base unit...\n",
      "\n",
      "Monica: Base Unit! Think Monica! Think!\n",
      "\n",
      "Mike: Look, if I wanna see Phoebe and she wants to see...\n",
      "\n",
      "Monica: (to Mike) This doesn't concern you!!\n",
      "\n",
      "Mike: Oh! Sorry, I guess I was thrown off by the mention of my name!\n",
      "\n",
      "Monica: Look, guys, you can't do this, it's just going to make getting over each other, that much harder.\n",
      "\n",
      "Phoebe: Not if nothing happens. Why can't... why can't we just hang out as friends?\n",
      "\n",
      "Monica: Sure! If you're just gonna hang out as friends, then maybe I'll join ya. You know, I'm your friend (to Phoebe) and Mike's friend (Mike is sceptical).\n",
      "\n",
      "Phoebe: Sit down.\n",
      "\n",
      "(Phoebe and Mike sit next to each other)\n",
      "\n",
      "Monica: Oh wow wow wow!! Make room for your friend! (sits herself down between them)\n",
      "\n",
      "Mike: (to Phoebe) So how've you been?\n",
      "\n",
      "Monica: I've been pretty good!\n",
      "\n",
      "Mike: (to Phoebe) You look really beautiful.\n",
      "\n",
      "Phoebe: Thanks, you look good too.\n",
      "\n",
      "Monica: Oh no no no no... this is dangerous territory. Keep it clean!\n",
      "\n",
      "Phoebe: So how's the piano playing going?\n",
      "\n",
      "Mike: Actually I've been playing a lot of love songs lately. I've missed you.\n",
      "\n",
      "Phoebe: I've missed you too.\n",
      "\n",
      "(Silence)\n",
      "\n",
      "Monica: You know, on the way over here, I saw this drunk guy throw up. And then a pigeon ate it!\n",
      "\n",
      "[Scene: Ross's Apartment: Ross is doing something on his laptop when Chandler walks in]\n",
      "\n",
      "Chandler: Hey, Ross, I just wanted to apologize... (­looks at laptop screen)..don't tell me you actually made those gay pictures of me?\n",
      "\n",
      "Ross: uhu uhu, check this out. (Chandler sits down and looks at laptop screen)\n",
      "\n",
      "Chandler: Huh! So that's what I would look like if I worked out... and was being serviced by a policeman. You're not actually going to send these out are ya?\n",
      "\n",
      "Ross: Eh..actually no, I don't need to because your little \"Ross is dead\" joke didn't work, ok, there were no responses. Nobody posted anything on the website, nobody called my parents, so the joke my friend is on you. Nobody called, nobody wrote anything, nobody cares that I'm dead. (silence) Oh my God! Nobody cares that I'm dead!?\n",
      "\n",
      "Chandler: No, come on, you know that's not true.\n",
      "\n",
      "Ross: What are you talking about? You get sixty responses just for coming out of the closet! I didn't get one response! And I'm dead!\n",
      "\n",
      "Chandler: Well, the gay community is a lot more vocal than the dead community.\n",
      "\n",
      "Ross: I can't believe this. Not even my geology lab partner? And I carried that guy! (gets up from his sofa)\n",
      "\n",
      "Chandler: Alright look, let's think about this, ok, do you really think that people are gonna stir up your family at this tragic time? That people are gonna post condolences on a website? This is not about people not caring that you're dead .This is about people not having a decent outlet for their grief.\n",
      "\n",
      "Ross: You're right. There isn't a decent outlet.\n",
      "\n",
      "Chandler: Right, I mean, come on, I'm sure that if you had a funeral or a memorial service, tons of people would come.\n",
      "\n",
      "Ross: Exactly!! (sits back down at his laptop and starts typing)\n",
      "\n",
      "Chandler: Ross, what're you... what're you... what are you doing? (looks at laptop screen)You're having a memorial service for yourself!?\n",
      "\n",
      "Ross: No! That would be stupid! You're having it for me!\n",
      "\n",
      "Chandler: Ross, don't press send, don't press se... !\n",
      "\n",
      "Ross: oh, too late, too late! It's sent... oops sorry and so is the picture of you and the police man...\n",
      "\n",
      "[Scene: Joey's room: Joey is sitting on his bed reading DooL transcript when Rachel walks in]\n",
      "\n",
      "Rachel: I'm trying to put Emma down for a nap, have you seen Hugsy?\n",
      "\n",
      "Joey: Original or crappy?\n",
      "\n",
      "Rachel: Original.\n",
      "\n",
      "Joey: No, sorry haven't seen him.\n",
      "\n",
      "Rachel: Then what's that big lump under your covers?\n",
      "\n",
      "Joey: It's Monica, ok?\n",
      "\n",
      "Rachel: That's not Monica!\n",
      "\n",
      "Joey: Alright!! Fine! It's original Hugsy! No, now I know that Emma wants him but he's mine and I need him..\n",
      "\n",
      "Rachel: (to herself) Oh God.\n",
      "\n",
      "Joey: ... she's being unreasonable!\n",
      "\n",
      "Rachel: (yelling) Joey, there is a reason that Emma loves that stupid penguin so much (Joey covers Hugsy's ears) Oh don't cover its ears! (stops yelling) It's because it reminds her of her uncle Joey!\n",
      "\n",
      "Joey: It does?\n",
      "\n",
      "Rachel: Yeah! And she's comforted by him because she loves her uncle Joey so much.\n",
      "\n",
      "Joey: Really? She... she loves me?\n",
      "\n",
      "Rachel: Oh yeah! But you know what? If you need Hugsy, don't worry. Emma will totally understand. I won't... but whatever (She leaves the room).\n",
      "\n",
      "Joey: Ok, wait wait wait wait a minute wait a minute, I mean Rach, I mean if if... . If Hugsy means that much to Emma then... well she can have him.\n",
      "\n",
      "Rachel: Oooh... you're sweet, I knew uncle Joey would step up. (Turns to face Emma in the the playpen) Look Emma, look who's baaack!\n",
      "\n",
      "Joey: Look forget it forget it... I can't do it.\n",
      "\n",
      "Rachel: Are you gonna... you're going to take Hugsy away from a little child?\n",
      "\n",
      "Joey: How do you think I got him in the first place?\n",
      "\n",
      "[Scene: Phoebe's apartment: Phoebe, Monica and Mike sitting on the couch]\n",
      "\n",
      "(Monica is getting up from the couch)\n",
      "\n",
      "Monica: Alright you two, I'm gonna go to the bathroom. Now I don't want anything going on while I'm gone. Here's a few things you can discuss: mucus, fungus and the idea of me and Ross doing it.\n",
      "\n",
      "Mike: I've missed you so much! No, I'm not gonna ask you to get back together because I know we want different things, but just to be with you one more night.\n",
      "\n",
      "Phoebe: I know, I want that too, but IS that going to make it too hard?\n",
      "\n",
      "Mike: It can't be any harder than this... I mean, If I had known the last time I saw you would be the last time, I... I would have stopped to memorize your face, the way you move, everything about you. If I had known the last time I kissed you would have been the last time... I never would have stopped.\n",
      "\n",
      "Monica: (running back into the room) Kiss him, you fool!!\n",
      "\n",
      "Phoebe: What?\n",
      "\n",
      "Monica: Didn't you hear that speech? If you don't kiss him then I will!\n",
      "\n",
      "Phoebe: Oh, I missed you so much! (she kisses Mike)\n",
      "\n",
      "Strange man: (he bounds into the house) I knew you'd be here!\n",
      "\n",
      "Mike: Oh, crap!\n",
      "\n",
      "Phoebe: Who is this?\n",
      "\n",
      "Mike: My friend Manny. I asked him to keep me away from you.\n",
      "\n",
      "Monica: Hi, that's what I'm doing for Phoebe!\n",
      "\n",
      "Manny: Well, you are not doing a very good job!\n",
      "\n",
      "Monica: Excuse me?\n",
      "\n",
      "Manny: What's with the kissing?\n",
      "\n",
      "Monica: Hey, at least I knew where my guy was.\n",
      "\n",
      "Manny: Oh yeah yeah, thank God you were here to oversee all the kissing!\n",
      "\n",
      "Monica: You didn't hear the speech!\n",
      "\n",
      "Manny: I've heard the speech: (in a mocking voice) \"if he knew it was gonna be the last time he saw her... \"\n",
      "\n",
      "Monica: Hey, it was very moving! You're just heartless!\n",
      "\n",
      "Manny: You're weak!\n",
      "\n",
      "Monica: You're... weird!\n",
      "\n",
      "Manny: Your pants are undone!\n",
      "\n",
      "Monica: Oh (realizes her pants are undone and zips them up)!\n",
      "\n",
      "Manny: (looking at the sofa) Where did they go?\n",
      "\n",
      "Monica: Damn it!\n",
      "\n",
      "Manny: Oh we blew it. I blame myself.\n",
      "\n",
      "Monica: And I blame you too.\n",
      "\n",
      "[Scene: Monica and Chandler's apartment]\n",
      "\n",
      "Ross: It's been an hour and not one of my classmates has shown up! I tell you, when I actually die some people are gonna get seriously haunted!\n",
      "\n",
      "(someone knocks on the door)\n",
      "\n",
      "Chandler: There you go! Someone came!\n",
      "\n",
      "Ross: Ok, ok! I'm gonna go hide! Oh, this is so exciting, my first mourner! (he hides in the bedroom and closes the door)\n",
      "\n",
      "(Chandler and Monica go open the door)\n",
      "\n",
      "Monica: Hi, glad you could come.\n",
      "\n",
      "Chandler: (in a mournful voice) Please, come in.\n",
      "\n",
      "Tom: Hi, you're Chandler Bing, right? I'm Tom Gordon, I was in your class.\n",
      "\n",
      "Chandler: Oh yes, yes... let me... take your coat.\n",
      "\n",
      "Tom: Thanks... uh... I'm so sorry about Ross, it's...\n",
      "\n",
      "Chandler: At least he died doing what he loved... watching blimps (he goes in the bedroom)\n",
      "\n",
      "Ross: Who is he?\n",
      "\n",
      "Chandler: Some guy, Tom Gordon.\n",
      "\n",
      "Ross: I don't remember him, but then again I touched so many lives. (they press their ears against the door)\n",
      "\n",
      "Monica: So, did you know Ross well?\n",
      "\n",
      "Tom: Oh, actually I barely knew him. Yeah, I came because I heard Chandler's news. D'you know if he's seeing anyone?\n",
      "\n",
      "Monica: (a bit surprised) Yes, he is. Me.\n",
      "\n",
      "Tom: What? You... You... Oh! Can I ask you a personal question? Ho-how do you shave your beard so close?\n",
      "\n",
      "Chandler: (entering, very upset) Ok Tommy, that's enough mourning for you! Here we go, bye bye!! (he shoves him out the door)\n",
      "\n",
      "Tom: (before leaving) Hey, listen. Call me.\n",
      "\n",
      "Chandler: Ok! (shuts the door behind Tom)\n",
      "\n",
      "Ross: (coming in) I'm dead and no one cares?\n",
      "\n",
      "Monica: I look like a man??\n",
      "\n",
      "Chandler: Please, one ridiculous problem at a time!\n",
      "\n",
      "Ross: It isn't ridiculous, look around! No one's here!\n",
      "\n",
      "Chandler: You gave them one day's notice, not everyone in our class checks the web site everyday and Monica... it's probably the way you stand!\n",
      "\n",
      "Ross: Yes, you're right. Still somebody must have seen it... I mean, I went to that school for 4 years, I didn't have an impact on anyone?\n",
      "\n",
      "Chandler: Oh, that's not true. You had an impact on me, I mean, it's 15 years later and we're still best friends. Doesn't that count for something?\n",
      "\n",
      "Ross: (sceptical) Yeah...\n",
      "\n",
      "(someone knocks on the door) Oh, great. More party boys for Chandler!\n",
      "\n",
      "Chandler: I'm sure it's somebody for you. Now, go hide. (Ross hides in the bedroom again)\n",
      "\n",
      "(Chandlers opens the door. A beautiful woman stands at the doorway.)\n",
      "\n",
      "Kori: Hi. I'm here for Ross Geller's memorial service.\n",
      "\n",
      "Chandler: Kori? Kori Weston?\n",
      "\n",
      "Kori: Yeah...\n",
      "\n",
      "Chandler: Wow! You look amazing!\n",
      "\n",
      "Kori: And you are...\n",
      "\n",
      "Chandler: Chandler, Chandler Bing. I'm not gay, I'm not gay at all.\n",
      "\n",
      "Monica: You are married though.\n",
      "\n",
      "Chandler: Don't listen to him, he's in a really bad mood! (lets her in)\n",
      "\n",
      "Kori: I can't believe that Ross is gone. It is just so sad.\n",
      "\n",
      "Chandler: I didn't know Ross and you were so close.\n",
      "\n",
      "Kori: We weren't but we had one class together. He was such a great guy and he talked so passionately about science. I always remembered him.\n",
      "\n",
      "Chandler: I'm sure that would mean a lot to him. And if heaven has a door, I'm sure he's pressing his ear up against it and listening intently.\n",
      "\n",
      "Kori: I thought so many times about calling him and asking him out. I guess I really missed my chance.\n",
      "\n",
      "Ross: (he bounds into the lounge room) But you didn't! I'm still alive!! Kori, I know this is a big surprise for you. It's a long story but the things you just said really made my day! I mean, the fact that you are here means more to me than if this room were filled with people!\n",
      "\n",
      "Kori: You sick freak, who does that? I can't believe I had a crush on you! (she leaves and slams the door behind her)\n",
      "\n",
      "Ross: Did you hear that? Kori Weston had a crush on me!!\n",
      "\n",
      "Ending Credits\n",
      "\n",
      "[Scene: Ross' apartment]\n",
      "\n",
      "Ross: (on the phone) No Mum, I'm not dead. I know it's not something to kid about. It was just a practical joke between Chandler and me, but it's over, ok? (pause) Actually no, even if I had died, you would not be left childless. (pause) Monica?\n"
     ]
    }
   ],
   "source": [
    "#print one sample file\n",
    "\n",
    "k = open(os.path.join(path, \"S09E17 The Memorial Service.txt\"), 'r', encoding='utf-8')\n",
    "sample_file = k.read()\n",
    "\n",
    "print(sample_file)\n",
    "\n"
   ]
  },
  {
   "cell_type": "markdown",
   "metadata": {},
   "source": [
    "## This is text data, we will do data pre processing to create a strctured input for the association rule mining. "
   ]
  },
  {
   "cell_type": "markdown",
   "metadata": {},
   "source": [
    "### We will assume a charcaters presence based on dialogue. The best case scenario would be if we can get screen presence data, which tracks actors presence on screen based on timestamp (I'm working on it as an image recognition side project :))\n",
    "\n",
    "### However in this case, we use the dialogue data to identify presence of characters, which is fairly accurate representation, and the script text files are easy to access. "
   ]
  },
  {
   "cell_type": "code",
   "execution_count": 14,
   "metadata": {},
   "outputs": [
    {
     "name": "stdout",
     "output_type": "stream",
     "text": [
      "   scene_number                      script_file  Actor  Adrienne  Agent  \\\n",
      "0             1  S09E17 The Memorial Service.txt      0         0      0   \n",
      "1             2  S09E17 The Memorial Service.txt      0         0      0   \n",
      "2             3  S09E17 The Memorial Service.txt      0         0      0   \n",
      "3             4  S09E17 The Memorial Service.txt      0         0      0   \n",
      "4             5  S09E17 The Memorial Service.txt      0         0      0   \n",
      "\n",
      "   Alan  Alex  Alexander  Alice  All  ...  Williams  Witch  Woman  Worker  \\\n",
      "0     0     0          0      0    0  ...         0      0      0       0   \n",
      "1     0     0          0      0    0  ...         0      0      0       0   \n",
      "2     0     0          0      0    0  ...         0      0      0       0   \n",
      "3     0     0          0      0    0  ...         0      0      0       0   \n",
      "4     0     0          0      0    0  ...         0      0      0       0   \n",
      "\n",
      "   Writer  Zack  Zane  Zellner  Zelner  Zoe  \n",
      "0       0     0     0        0       0    0  \n",
      "1       0     0     0        0       0    0  \n",
      "2       0     0     0        0       0    0  \n",
      "3       0     0     0        0       0    0  \n",
      "4       0     0     0        0       0    0  \n",
      "\n",
      "[5 rows x 493 columns]\n"
     ]
    }
   ],
   "source": [
    "\n",
    "# List all text files\n",
    "script_files = [f for f in os.listdir(path) if f.endswith('.txt')]\n",
    "\n",
    "# Regular expression patterns for scenes and actors\n",
    "scene_pattern = r\"\\[Scene: (.*?)\\]\"\n",
    "actor_pattern = r\"([A-Z][a-z]+):\"  # Only capture words starting with capital letter followed by lowercase letters\n",
    "\n",
    "# List to store scene and actor data\n",
    "scene_data = []\n",
    "all_actors = set()\n",
    "\n",
    "# Process each script file\n",
    "for script_file in script_files:\n",
    "    with open(os.path.join(path, script_file), 'r', encoding='utf-8') as file:\n",
    "        script_text = file.read()\n",
    "\n",
    "        # Split script into scenes by looking for [Scene: ]\n",
    "        scenes = script_text.split('[Scene:')\n",
    "\n",
    "        # Process each scene\n",
    "        for i, scene in enumerate(scenes[1:], start=1):\n",
    "            scene_info = {}\n",
    "            scene_info['scene_number'] = i\n",
    "            scene_info['script_file'] = script_file  # To identify which script the scene belongs to\n",
    "\n",
    "            # Extract actors from the scene\n",
    "            actors = re.findall(actor_pattern, scene)\n",
    "            scene_info['actors'] = actors\n",
    "\n",
    "            # Update all_actors set to keep track of unique actor names\n",
    "            all_actors.update(actors)\n",
    "\n",
    "            scene_data.append(scene_info)\n",
    "\n",
    "# Create a DataFrame\n",
    "all_actors = sorted(list(all_actors))  # Sort actors to maintain consistent column order\n",
    "\n",
    "# Create a matrix for the scene data\n",
    "scene_matrix = []\n",
    "\n",
    "for scene_info in scene_data:\n",
    "    scene_row = [scene_info['scene_number'], scene_info['script_file']]\n",
    "    \n",
    "    # For each actor, mark if they are present in the scene\n",
    "    for actor in all_actors:\n",
    "        scene_row.append(1 if actor in scene_info['actors'] else 0)\n",
    "    \n",
    "    scene_matrix.append(scene_row)\n",
    "\n",
    "# Create pandas DataFrame\n",
    "df = pd.DataFrame(scene_matrix, columns=['scene_number', 'script_file'] + all_actors)\n",
    "\n",
    "#  Display the DataFrame\n",
    "print(df.head())  # Show the first few rows to verify the result\n",
    "\n",
    "\n"
   ]
  },
  {
   "cell_type": "markdown",
   "metadata": {},
   "source": [
    "## In the above Dataframe, we have a column for scene number, script file and a column for each characters name. 1 represent the character was in the scene, and 0 reflects non presence. \n",
    "\n",
    "### Scene is identified from the script and is enumerated to create a uniqye identifier for each scene. "
   ]
  },
  {
   "cell_type": "markdown",
   "metadata": {},
   "source": [
    "### Now, we will do some data cleaning and filtering to keep data more relevant for Association rule mining"
   ]
  },
  {
   "cell_type": "markdown",
   "metadata": {},
   "source": [
    "\n",
    "### As part of filtering we will keep actors who appear more than 100 times, the rest are not so interesting as their are a lot of characters who are guests or come to show for an episode or two. Considering we are dealing with data from friends TV show, which has 10 seasons, our main focus is on actors with at least a minimal level of dialogues. "
   ]
  },
  {
   "cell_type": "code",
   "execution_count": 15,
   "metadata": {},
   "outputs": [
    {
     "name": "stdout",
     "output_type": "stream",
     "text": [
      "      scene_number           script_file  All  Carol  Chandler  Charlie  \\\n",
      "3045            17  S01E23 The Birth.txt    0      1         1        0   \n",
      "3046            18  S01E23 The Birth.txt    0      0         0        0   \n",
      "3047            19  S01E23 The Birth.txt    1      1         1        0   \n",
      "3048            20  S01E23 The Birth.txt    0      1         1        0   \n",
      "3049            21  S01E23 The Birth.txt    1      0         1        0   \n",
      "\n",
      "      Director  Emily  Geller  Gunther  ...  Mike  Monica  Nurse  Phoebe  \\\n",
      "3045         0      0       0        0  ...     0       1      1       0   \n",
      "3046         0      0       0        0  ...     0       0      0       1   \n",
      "3047         0      0       0        0  ...     0       0      1       1   \n",
      "3048         0      0       0        0  ...     0       1      0       1   \n",
      "3049         0      0       0        0  ...     0       1      0       1   \n",
      "\n",
      "      Rachel  Richard  Ross  Susan  Tag  Woman  \n",
      "3045       1        0     0      0    0      0  \n",
      "3046       0        0     1      1    0      0  \n",
      "3047       0        0     1      1    0      0  \n",
      "3048       1        0     1      1    0      0  \n",
      "3049       1        0     1      0    0      0  \n",
      "\n",
      "[5 rows x 24 columns]\n"
     ]
    }
   ],
   "source": [
    "# Count how many times each actor appears across all scenes\n",
    "actor_appearance_count = df.drop(['scene_number', 'script_file'], axis=1).sum()\n",
    "\n",
    "\n",
    "# actors who have a dialogue more than 100 times\n",
    "actors_to_keep = actor_appearance_count[actor_appearance_count > 20].index.tolist()\n",
    "\n",
    "# Filter the DataFrame to include only the relevant actors\n",
    "filtered_df = df[['scene_number', 'script_file'] + actors_to_keep]\n",
    "\n",
    "# Display the filtered DataFrame\n",
    "print(filtered_df.tail())  # Show the first few rows\n",
    "\n"
   ]
  },
  {
   "cell_type": "code",
   "execution_count": 16,
   "metadata": {},
   "outputs": [
    {
     "name": "stdout",
     "output_type": "stream",
     "text": [
      "<class 'pandas.core.frame.DataFrame'>\n",
      "RangeIndex: 3050 entries, 0 to 3049\n",
      "Data columns (total 24 columns):\n",
      " #   Column        Non-Null Count  Dtype \n",
      "---  ------        --------------  ----- \n",
      " 0   scene_number  3050 non-null   int64 \n",
      " 1   script_file   3050 non-null   object\n",
      " 2   All           3050 non-null   int64 \n",
      " 3   Carol         3050 non-null   int64 \n",
      " 4   Chandler      3050 non-null   int64 \n",
      " 5   Charlie       3050 non-null   int64 \n",
      " 6   Director      3050 non-null   int64 \n",
      " 7   Emily         3050 non-null   int64 \n",
      " 8   Geller        3050 non-null   int64 \n",
      " 9   Gunther       3050 non-null   int64 \n",
      " 10  Guy           3050 non-null   int64 \n",
      " 11  Janice        3050 non-null   int64 \n",
      " 12  Joey          3050 non-null   int64 \n",
      " 13  Man           3050 non-null   int64 \n",
      " 14  Mike          3050 non-null   int64 \n",
      " 15  Monica        3050 non-null   int64 \n",
      " 16  Nurse         3050 non-null   int64 \n",
      " 17  Phoebe        3050 non-null   int64 \n",
      " 18  Rachel        3050 non-null   int64 \n",
      " 19  Richard       3050 non-null   int64 \n",
      " 20  Ross          3050 non-null   int64 \n",
      " 21  Susan         3050 non-null   int64 \n",
      " 22  Tag           3050 non-null   int64 \n",
      " 23  Woman         3050 non-null   int64 \n",
      "dtypes: int64(23), object(1)\n",
      "memory usage: 572.0+ KB\n"
     ]
    }
   ],
   "source": [
    "filtered_df.info()"
   ]
  },
  {
   "cell_type": "markdown",
   "metadata": {},
   "source": [
    "### As manual filtering, I notice some columns which are not represntative, removing these individually even if they have more than 100 dialogues"
   ]
  },
  {
   "cell_type": "code",
   "execution_count": 17,
   "metadata": {},
   "outputs": [
    {
     "name": "stdout",
     "output_type": "stream",
     "text": [
      "   scene_number                      script_file  Carol  Chandler  Charlie  \\\n",
      "0             1  S09E17 The Memorial Service.txt      0         1        0   \n",
      "1             2  S09E17 The Memorial Service.txt      0         0        0   \n",
      "2             3  S09E17 The Memorial Service.txt      0         1        0   \n",
      "3             4  S09E17 The Memorial Service.txt      0         0        0   \n",
      "4             5  S09E17 The Memorial Service.txt      0         1        0   \n",
      "\n",
      "   Emily  Gunther  Janice  Joey  Man  Mike  Monica  Phoebe  Rachel  Richard  \\\n",
      "0      0        0       0     1    0     0       0       0       0        0   \n",
      "1      0        0       0     1    0     0       0       0       1        0   \n",
      "2      0        0       0     0    0     0       1       1       0        0   \n",
      "3      0        0       0     1    0     0       0       0       1        0   \n",
      "4      0        0       0     0    0     0       1       0       0        0   \n",
      "\n",
      "   Ross  Susan  Tag  \n",
      "0     1      0    0  \n",
      "1     0      0    0  \n",
      "2     1      0    0  \n",
      "3     0      0    0  \n",
      "4     1      0    0  \n"
     ]
    }
   ],
   "source": [
    "# Remove unwanted columns: \"Director\", \"All\", \"Guy\", \"Woman\", \"Geller\"\n",
    "columns_to_remove = ['Director', 'All', 'Guy', 'Woman', 'Geller', 'Nurse']\n",
    "filtered_df = filtered_df.drop(columns=columns_to_remove, errors='ignore')\n",
    "\n",
    "# Display the filtered DataFrame after removing specified columns\n",
    "print(filtered_df.head())  # Show the first few rows\n"
   ]
  },
  {
   "cell_type": "code",
   "execution_count": 18,
   "metadata": {},
   "outputs": [
    {
     "data": {
      "text/html": [
       "<div>\n",
       "<style scoped>\n",
       "    .dataframe tbody tr th:only-of-type {\n",
       "        vertical-align: middle;\n",
       "    }\n",
       "\n",
       "    .dataframe tbody tr th {\n",
       "        vertical-align: top;\n",
       "    }\n",
       "\n",
       "    .dataframe thead th {\n",
       "        text-align: right;\n",
       "    }\n",
       "</style>\n",
       "<table border=\"1\" class=\"dataframe\">\n",
       "  <thead>\n",
       "    <tr style=\"text-align: right;\">\n",
       "      <th></th>\n",
       "      <th>scene_number</th>\n",
       "      <th>script_file</th>\n",
       "      <th>Carol</th>\n",
       "      <th>Chandler</th>\n",
       "      <th>Charlie</th>\n",
       "      <th>Emily</th>\n",
       "      <th>Gunther</th>\n",
       "      <th>Janice</th>\n",
       "      <th>Joey</th>\n",
       "      <th>Man</th>\n",
       "      <th>Mike</th>\n",
       "      <th>Monica</th>\n",
       "      <th>Phoebe</th>\n",
       "      <th>Rachel</th>\n",
       "      <th>Richard</th>\n",
       "      <th>Ross</th>\n",
       "      <th>Susan</th>\n",
       "      <th>Tag</th>\n",
       "    </tr>\n",
       "  </thead>\n",
       "  <tbody>\n",
       "    <tr>\n",
       "      <th>0</th>\n",
       "      <td>1</td>\n",
       "      <td>S09E17 The Memorial Service.txt</td>\n",
       "      <td>0</td>\n",
       "      <td>1</td>\n",
       "      <td>0</td>\n",
       "      <td>0</td>\n",
       "      <td>0</td>\n",
       "      <td>0</td>\n",
       "      <td>1</td>\n",
       "      <td>0</td>\n",
       "      <td>0</td>\n",
       "      <td>0</td>\n",
       "      <td>0</td>\n",
       "      <td>0</td>\n",
       "      <td>0</td>\n",
       "      <td>1</td>\n",
       "      <td>0</td>\n",
       "      <td>0</td>\n",
       "    </tr>\n",
       "    <tr>\n",
       "      <th>1</th>\n",
       "      <td>2</td>\n",
       "      <td>S09E17 The Memorial Service.txt</td>\n",
       "      <td>0</td>\n",
       "      <td>0</td>\n",
       "      <td>0</td>\n",
       "      <td>0</td>\n",
       "      <td>0</td>\n",
       "      <td>0</td>\n",
       "      <td>1</td>\n",
       "      <td>0</td>\n",
       "      <td>0</td>\n",
       "      <td>0</td>\n",
       "      <td>0</td>\n",
       "      <td>1</td>\n",
       "      <td>0</td>\n",
       "      <td>0</td>\n",
       "      <td>0</td>\n",
       "      <td>0</td>\n",
       "    </tr>\n",
       "    <tr>\n",
       "      <th>2</th>\n",
       "      <td>3</td>\n",
       "      <td>S09E17 The Memorial Service.txt</td>\n",
       "      <td>0</td>\n",
       "      <td>1</td>\n",
       "      <td>0</td>\n",
       "      <td>0</td>\n",
       "      <td>0</td>\n",
       "      <td>0</td>\n",
       "      <td>0</td>\n",
       "      <td>0</td>\n",
       "      <td>0</td>\n",
       "      <td>1</td>\n",
       "      <td>1</td>\n",
       "      <td>0</td>\n",
       "      <td>0</td>\n",
       "      <td>1</td>\n",
       "      <td>0</td>\n",
       "      <td>0</td>\n",
       "    </tr>\n",
       "    <tr>\n",
       "      <th>3</th>\n",
       "      <td>4</td>\n",
       "      <td>S09E17 The Memorial Service.txt</td>\n",
       "      <td>0</td>\n",
       "      <td>0</td>\n",
       "      <td>0</td>\n",
       "      <td>0</td>\n",
       "      <td>0</td>\n",
       "      <td>0</td>\n",
       "      <td>1</td>\n",
       "      <td>0</td>\n",
       "      <td>0</td>\n",
       "      <td>0</td>\n",
       "      <td>0</td>\n",
       "      <td>1</td>\n",
       "      <td>0</td>\n",
       "      <td>0</td>\n",
       "      <td>0</td>\n",
       "      <td>0</td>\n",
       "    </tr>\n",
       "    <tr>\n",
       "      <th>4</th>\n",
       "      <td>5</td>\n",
       "      <td>S09E17 The Memorial Service.txt</td>\n",
       "      <td>0</td>\n",
       "      <td>1</td>\n",
       "      <td>0</td>\n",
       "      <td>0</td>\n",
       "      <td>0</td>\n",
       "      <td>0</td>\n",
       "      <td>0</td>\n",
       "      <td>0</td>\n",
       "      <td>0</td>\n",
       "      <td>1</td>\n",
       "      <td>0</td>\n",
       "      <td>0</td>\n",
       "      <td>0</td>\n",
       "      <td>1</td>\n",
       "      <td>0</td>\n",
       "      <td>0</td>\n",
       "    </tr>\n",
       "  </tbody>\n",
       "</table>\n",
       "</div>"
      ],
      "text/plain": [
       "   scene_number                      script_file  Carol  Chandler  Charlie  \\\n",
       "0             1  S09E17 The Memorial Service.txt      0         1        0   \n",
       "1             2  S09E17 The Memorial Service.txt      0         0        0   \n",
       "2             3  S09E17 The Memorial Service.txt      0         1        0   \n",
       "3             4  S09E17 The Memorial Service.txt      0         0        0   \n",
       "4             5  S09E17 The Memorial Service.txt      0         1        0   \n",
       "\n",
       "   Emily  Gunther  Janice  Joey  Man  Mike  Monica  Phoebe  Rachel  Richard  \\\n",
       "0      0        0       0     1    0     0       0       0       0        0   \n",
       "1      0        0       0     1    0     0       0       0       1        0   \n",
       "2      0        0       0     0    0     0       1       1       0        0   \n",
       "3      0        0       0     1    0     0       0       0       1        0   \n",
       "4      0        0       0     0    0     0       1       0       0        0   \n",
       "\n",
       "   Ross  Susan  Tag  \n",
       "0     1      0    0  \n",
       "1     0      0    0  \n",
       "2     1      0    0  \n",
       "3     0      0    0  \n",
       "4     1      0    0  "
      ]
     },
     "execution_count": 18,
     "metadata": {},
     "output_type": "execute_result"
    }
   ],
   "source": [
    "filtered_df.head()"
   ]
  },
  {
   "cell_type": "code",
   "execution_count": 19,
   "metadata": {},
   "outputs": [
    {
     "name": "stdout",
     "output_type": "stream",
     "text": [
      "Chandler    1356\n",
      "Joey        1316\n",
      "Rachel      1314\n",
      "Monica      1292\n",
      "Ross        1259\n",
      "Phoebe      1207\n",
      "Gunther       63\n",
      "Mike          60\n",
      "Janice        44\n",
      "Carol         38\n",
      "Charlie       33\n",
      "Emily         31\n",
      "Man           31\n",
      "Susan         27\n",
      "Tag           27\n",
      "Richard       23\n",
      "dtype: int64\n"
     ]
    }
   ],
   "source": [
    "# Exclude non-character columns\n",
    "character_columns = filtered_df.columns.difference(['scene_number', 'script_file'])\n",
    "\n",
    "# Count the number of dialogue occurrences per character per scene\n",
    "dialogue_counts = filtered_df[character_columns].sum(axis=0)\n",
    "\n",
    "# Sort characters by the number of lines\n",
    "dialogue_counts_sorted = dialogue_counts.sort_values(ascending=False)\n",
    "\n",
    "# Display results\n",
    "print(dialogue_counts_sorted)"
   ]
  },
  {
   "cell_type": "code",
   "execution_count": 23,
   "metadata": {},
   "outputs": [
    {
     "data": {
      "image/png": "[encoded data removed]",
      "text/plain": [
       "<Figure size 1000x600 with 1 Axes>"
      ]
     },
     "metadata": {},
     "output_type": "display_data"
    }
   ],
   "source": [
    "\n",
    "\n",
    "# Plotting the dialogue counts\n",
    "plt.figure(figsize=(10, 6))\n",
    "dialogue_counts_sorted.plot(kind='bar', color='skyblue')\n",
    "\n",
    "# Adding titles and labels\n",
    "plt.title('Dialogue Counts per Character', fontsize=16)\n",
    "plt.xlabel('Character', fontsize=14)\n",
    "plt.ylabel('Number of Dialogue Lines', fontsize=14)\n",
    "plt.xticks(rotation=45, ha='right')  # Rotate x-axis labels for better readability\n",
    "\n",
    "# Display the plot\n",
    "plt.tight_layout()\n",
    "plt.show()"
   ]
  },
  {
   "cell_type": "markdown",
   "metadata": {},
   "source": [
    "### As Expected the top 6 are the lead friends characters. Chandler is leading with most dialogues throughout the friends series, Phoebe with least (among top 6). "
   ]
  },
  {
   "cell_type": "markdown",
   "metadata": {},
   "source": [
    "### Now that we have a basic intution of the data, and it seems valid based on my domain knowledge, I will proceed with finding some association rules."
   ]
  },
  {
   "cell_type": "code",
   "execution_count": 26,
   "metadata": {},
   "outputs": [
    {
     "data": {
      "text/html": [
       "<div>\n",
       "<style scoped>\n",
       "    .dataframe tbody tr th:only-of-type {\n",
       "        vertical-align: middle;\n",
       "    }\n",
       "\n",
       "    .dataframe tbody tr th {\n",
       "        vertical-align: top;\n",
       "    }\n",
       "\n",
       "    .dataframe thead th {\n",
       "        text-align: right;\n",
       "    }\n",
       "</style>\n",
       "<table border=\"1\" class=\"dataframe\">\n",
       "  <thead>\n",
       "    <tr style=\"text-align: right;\">\n",
       "      <th></th>\n",
       "      <th>pair</th>\n",
       "      <th>count</th>\n",
       "    </tr>\n",
       "  </thead>\n",
       "  <tbody>\n",
       "    <tr>\n",
       "      <th>4</th>\n",
       "      <td>(1, 9)</td>\n",
       "      <td>888</td>\n",
       "    </tr>\n",
       "    <tr>\n",
       "      <th>0</th>\n",
       "      <td>(1, 6)</td>\n",
       "      <td>818</td>\n",
       "    </tr>\n",
       "    <tr>\n",
       "      <th>13</th>\n",
       "      <td>(11, 13)</td>\n",
       "      <td>759</td>\n",
       "    </tr>\n",
       "    <tr>\n",
       "      <th>6</th>\n",
       "      <td>(9, 10)</td>\n",
       "      <td>738</td>\n",
       "    </tr>\n",
       "    <tr>\n",
       "      <th>11</th>\n",
       "      <td>(9, 11)</td>\n",
       "      <td>706</td>\n",
       "    </tr>\n",
       "    <tr>\n",
       "      <th>12</th>\n",
       "      <td>(10, 11)</td>\n",
       "      <td>691</td>\n",
       "    </tr>\n",
       "    <tr>\n",
       "      <th>1</th>\n",
       "      <td>(1, 13)</td>\n",
       "      <td>668</td>\n",
       "    </tr>\n",
       "    <tr>\n",
       "      <th>3</th>\n",
       "      <td>(6, 11)</td>\n",
       "      <td>663</td>\n",
       "    </tr>\n",
       "    <tr>\n",
       "      <th>14</th>\n",
       "      <td>(6, 9)</td>\n",
       "      <td>656</td>\n",
       "    </tr>\n",
       "    <tr>\n",
       "      <th>2</th>\n",
       "      <td>(6, 13)</td>\n",
       "      <td>649</td>\n",
       "    </tr>\n",
       "  </tbody>\n",
       "</table>\n",
       "</div>"
      ],
      "text/plain": [
       "        pair  count\n",
       "4     (1, 9)    888\n",
       "0     (1, 6)    818\n",
       "13  (11, 13)    759\n",
       "6    (9, 10)    738\n",
       "11   (9, 11)    706\n",
       "12  (10, 11)    691\n",
       "1    (1, 13)    668\n",
       "3    (6, 11)    663\n",
       "14    (6, 9)    656\n",
       "2    (6, 13)    649"
      ]
     },
     "execution_count": 26,
     "metadata": {},
     "output_type": "execute_result"
    }
   ],
   "source": [
    "# Drop unnecessary columns\n",
    "df_transformed = filtered_df.drop(columns=['scene_number', 'script_file'])\n",
    "\n",
    "# Ccnvert binary values (1 or 0) to boolean (True for 1, False for 0)\n",
    "df_transformed = df_transformed.apply(lambda x: x == 1)\n",
    "\n",
    "# create a list of all scenes, each scene is a list of characters who spoke\n",
    "scenes = df_transformed.values.tolist()\n",
    "\n",
    "# the co-occurrence matrix\n",
    "co_occurrence = {}\n",
    "\n",
    "# Iterate through all scenes\n",
    "for scene in scenes:\n",
    "    # Get all pairs of characters that appear in the scene\n",
    "    pairs = combinations([i for i, x in enumerate(scene) if x], 2)  \n",
    "    for pair in pairs:\n",
    "        pair = tuple(sorted(pair))  # sort to avoid duplicate pairs\n",
    "        if pair in co_occurrence:\n",
    "            co_occurrence[pair] += 1\n",
    "        else:\n",
    "            co_occurrence[pair] = 1\n",
    "\n",
    "# convert co_occurrence dictionary to a DataFrame\n",
    "co_occurrence_df = pd.DataFrame(list(co_occurrence.items()), columns=['pair', 'count'])\n",
    "\n",
    "# Show top pairs by co-occurrence count\n",
    "co_occurrence_df.sort_values(by='count', ascending=False).head(10)\n"
   ]
  },
  {
   "cell_type": "code",
   "execution_count": 27,
   "metadata": {},
   "outputs": [
    {
     "name": "stdout",
     "output_type": "stream",
     "text": [
      "    antecedents                               consequents   support  \\\n",
      "0        (Ross)                                   (Carol)  0.011475   \n",
      "1       (Carol)                                    (Ross)  0.011475   \n",
      "4      (Janice)                                (Chandler)  0.011148   \n",
      "5    (Chandler)                                  (Janice)  0.011148   \n",
      "8    (Chandler)                                  (Monica)  0.291148   \n",
      "..          ...                                       ...       ...   \n",
      "611    (Phoebe)    (Chandler, Joey, Monica, Ross, Rachel)  0.089836   \n",
      "612      (Joey)  (Chandler, Phoebe, Monica, Ross, Rachel)  0.089836   \n",
      "613    (Monica)    (Chandler, Phoebe, Joey, Ross, Rachel)  0.089836   \n",
      "614      (Ross)  (Chandler, Phoebe, Joey, Monica, Rachel)  0.089836   \n",
      "615    (Rachel)    (Chandler, Phoebe, Joey, Monica, Ross)  0.089836   \n",
      "\n",
      "     confidence      lift  \n",
      "0      0.027800  2.231303  \n",
      "1      0.921053  2.231303  \n",
      "4      0.772727  1.738067  \n",
      "5      0.025074  1.738067  \n",
      "8      0.654867  1.545933  \n",
      "..          ...       ...  \n",
      "611    0.227009  2.205025  \n",
      "612    0.208207  2.048485  \n",
      "613    0.212074  2.177867  \n",
      "614    0.217633  2.005380  \n",
      "615    0.208524  2.038452  \n",
      "\n",
      "[550 rows x 5 columns]\n",
      "                        antecedents         consequents   support  confidence  \\\n",
      "1                           (Carol)              (Ross)  0.011475    0.921053   \n",
      "4                          (Janice)          (Chandler)  0.011148    0.772727   \n",
      "31                           (Mike)            (Phoebe)  0.018033    0.916667   \n",
      "45                   (Joey, Monica)          (Chandler)  0.180328    0.838415   \n",
      "51                   (Joey, Phoebe)          (Chandler)  0.152787    0.726989   \n",
      "..                              ...                 ...       ...         ...   \n",
      "570    (Monica, Joey, Ross, Phoebe)  (Rachel, Chandler)  0.089836    0.815476   \n",
      "571  (Monica, Joey, Rachel, Phoebe)    (Chandler, Ross)  0.089836    0.744565   \n",
      "572    (Rachel, Joey, Ross, Phoebe)  (Chandler, Monica)  0.089836    0.796512   \n",
      "573  (Rachel, Monica, Ross, Phoebe)    (Joey, Chandler)  0.089836    0.759003   \n",
      "574    (Rachel, Joey, Ross, Monica)  (Chandler, Phoebe)  0.089836    0.791908   \n",
      "\n",
      "         lift  \n",
      "1    2.231303  \n",
      "4    1.738067  \n",
      "31   2.316349  \n",
      "45   1.885815  \n",
      "51   1.635189  \n",
      "..        ...  \n",
      "570  4.050818  \n",
      "571  3.399587  \n",
      "572  2.735766  \n",
      "573  2.830023  \n",
      "574  3.876915  \n",
      "\n",
      "[154 rows x 5 columns]\n"
     ]
    }
   ],
   "source": [
    "# Convert the scene data into transactions for the Apriori algorithm\n",
    "transactions = []\n",
    "\n",
    "for scene in scenes:\n",
    "    # Get all characters who spoke in the scene\n",
    "    transaction = [df_transformed.columns[i] for i, x in enumerate(scene) if x]\n",
    "    transactions.append(transaction)\n",
    "\n",
    "\n",
    "te = TransactionEncoder()\n",
    "te_ary = te.fit(transactions).transform(transactions)\n",
    "\n",
    "df_te = pd.DataFrame(te_ary, columns=te.columns_)\n",
    "\n",
    "# Apply the Apriori algorithm\n",
    "frequent_itemsets = apriori(df_te, min_support=0.01, use_colnames=True)\n",
    "\n",
    "# Generate association rules from the frequent itemsets\n",
    "rules = association_rules(frequent_itemsets, metric=\"lift\", min_threshold=1.0)\n",
    "\n",
    "# Filter rules with high lift and confidence\n",
    "high_lift_rules = rules[rules['lift'] > 1.5]\n",
    "high_confidence_rules = rules[rules['confidence'] > 0.7]\n",
    "\n",
    "\n",
    "print(high_lift_rules[['antecedents', 'consequents', 'support', 'confidence', 'lift']])\n",
    "print(high_confidence_rules[['antecedents', 'consequents', 'support', 'confidence', 'lift']])\n"
   ]
  },
  {
   "cell_type": "code",
   "execution_count": 33,
   "metadata": {},
   "outputs": [
    {
     "data": {
      "image/png": "[encoded data removed]",
      "text/plain": [
       "<Figure size 1000x600 with 1 Axes>"
      ]
     },
     "metadata": {},
     "output_type": "display_data"
    }
   ],
   "source": [
    "\n",
    "# Visualize the support vs. lift of the rules\n",
    "plt.figure(figsize=(10, 6))\n",
    "sns.scatterplot(x='support', y='lift', data=high_confidence_rules, hue='confidence', size='support', sizes=(20, 200))\n",
    "plt.title('Association Rules: Support vs Lift')\n",
    "plt.xlabel('Support')\n",
    "plt.ylabel('Lift')\n",
    "plt.show()\n"
   ]
  },
  {
   "cell_type": "code",
   "execution_count": 34,
   "metadata": {},
   "outputs": [
    {
     "name": "stdout",
     "output_type": "stream",
     "text": [
      "(3050, 16)\n",
      "   Carol  Chandler  Charlie  Emily  Gunther  Janice   Joey    Man   Mike  \\\n",
      "0  False      True    False  False    False   False   True  False  False   \n",
      "1  False     False    False  False    False   False   True  False  False   \n",
      "2  False      True    False  False    False   False  False  False  False   \n",
      "3  False     False    False  False    False   False   True  False  False   \n",
      "4  False      True    False  False    False   False  False  False  False   \n",
      "\n",
      "   Monica  Phoebe  Rachel  Richard   Ross  Susan    Tag  \n",
      "0   False   False   False    False   True  False  False  \n",
      "1   False   False    True    False  False  False  False  \n",
      "2    True    True   False    False   True  False  False  \n",
      "3   False   False    True    False  False  False  False  \n",
      "4    True   False   False    False   True  False  False  \n"
     ]
    }
   ],
   "source": [
    "\n",
    "\n",
    "transactions = filtered_df.drop(['scene_number', 'script_file'], axis=1).apply(lambda x: x.index[x == 1].tolist(), axis=1).tolist()\n",
    "\n",
    "# Use TransactionEncoder to encode the transaction data\n",
    "te = TransactionEncoder()\n",
    "te_ary = te.fit_transform(transactions)\n",
    "\n",
    "# Convert to DataFrame for easier handling\n",
    "trans_df = pd.DataFrame(te_ary, columns=te.columns_)\n",
    "\n",
    "# Show summary\n",
    "print(trans_df.shape)  # Prints the number of transactions and items\n",
    "print(trans_df.head())  # Shows the first few rows\n"
   ]
  },
  {
   "cell_type": "code",
   "execution_count": 35,
   "metadata": {},
   "outputs": [
    {
     "name": "stdout",
     "output_type": "stream",
     "text": [
      "(152, 16)\n"
     ]
    }
   ],
   "source": [
    "sample_df = trans_df.sample(frac=0.05, random_state=42)\n",
    "print(sample_df.shape)  # Show the shape of the sample dataframe\n"
   ]
  },
  {
   "cell_type": "code",
   "execution_count": 36,
   "metadata": {},
   "outputs": [
    {
     "data": {
      "image/png": "[encoded data removed]",
      "text/plain": [
       "<Figure size 2400x1600 with 2 Axes>"
      ]
     },
     "metadata": {},
     "output_type": "display_data"
    }
   ],
   "source": [
    "# Visualize the sample transaction data as a heatmap\n",
    "plt.figure(figsize=(24, 16))\n",
    "sns.heatmap(sample_df.corr(), annot=True, cmap=\"YlGnBu\", fmt='.2f')\n",
    "plt.title(\"Transaction Sample Heatmap\")\n",
    "plt.show()\n"
   ]
  },
  {
   "cell_type": "code",
   "execution_count": 37,
   "metadata": {},
   "outputs": [
    {
     "data": {
      "image/png": "[encoded data removed]",
      "text/plain": [
       "<Figure size 640x480 with 1 Axes>"
      ]
     },
     "metadata": {},
     "output_type": "display_data"
    }
   ],
   "source": [
    "# Sum up the occurrences for characters\n",
    "item_freq = sample_df.sum().sort_values(ascending=False)\n",
    "\n",
    "# Plot top 20 frequent items\n",
    "item_freq.head(20).plot(kind='bar', color='skyblue')\n",
    "plt.title('Top 20 Most Frequent Items')\n",
    "plt.xlabel('Character')\n",
    "plt.ylabel('Frequency')\n",
    "plt.xticks(rotation=90)\n",
    "plt.show()\n"
   ]
  },
  {
   "cell_type": "code",
   "execution_count": 67,
   "metadata": {},
   "outputs": [
    {
     "name": "stderr",
     "output_type": "stream",
     "text": [
      "/usr/local/lib/python3.9/site-packages/mlxtend/frequent_patterns/fpcommon.py:161: DeprecationWarning: DataFrames with non-bool types result in worse computationalperformance and their support might be discontinued in the future.Please use a DataFrame with bool type\n",
      "  warnings.warn(\n",
      "/var/folders/yb/yccw901n49qckq1d4dzj8cgh0000gn/T/ipykernel_14873/4269519966.py:15: FutureWarning: \n",
      "\n",
      "Passing `palette` without assigning `hue` is deprecated and will be removed in v0.14.0. Assign the `x` variable to `hue` and set `legend=False` for the same effect.\n",
      "\n",
      "  sns.countplot(x=itemset_sizes, palette='Blues')\n"
     ]
    },
    {
     "data": {
      "image/png": "[encoded data removed]",
      "text/plain": [
       "<Figure size 800x600 with 1 Axes>"
      ]
     },
     "metadata": {},
     "output_type": "display_data"
    }
   ],
   "source": [
    "from mlxtend.frequent_patterns import apriori\n",
    "import matplotlib.pyplot as plt\n",
    "import seaborn as sns\n",
    "\n",
    "df_bin = filtered_df.drop(columns=['scene_number', 'script_file']).applymap(lambda x: 1 if x > 0 else 0)\n",
    "\n",
    "# Run apriori algorithm\n",
    "frequent_itemsets = apriori(df_bin, min_support=0.00008, use_colnames=True)\n",
    "\n",
    "# Calculate the itemset sizes\n",
    "itemset_sizes = frequent_itemsets['itemsets'].apply(lambda x: len(x))\n",
    "\n",
    "# Plot the distribution of itemset sizes\n",
    "plt.figure(figsize=(8, 6))\n",
    "sns.countplot(x=itemset_sizes, palette='Blues')\n",
    "plt.title('Itemset Size Distribution')\n",
    "plt.xlabel('Itemset Size')\n",
    "plt.ylabel('Frequency')\n",
    "plt.show()\n"
   ]
  },
  {
   "cell_type": "code",
   "execution_count": 68,
   "metadata": {},
   "outputs": [
    {
     "name": "stdout",
     "output_type": "stream",
     "text": [
      "      support                                           itemsets\n",
      "816  0.000328    (Joey, Chandler, Monica, Phoebe, Rachel, Carol)\n",
      "817  0.000984      (Joey, Chandler, Monica, Phoebe, Carol, Ross)\n",
      "818  0.000984     (Joey, Chandler, Monica, Phoebe, Carol, Susan)\n",
      "819  0.000656      (Joey, Chandler, Monica, Rachel, Carol, Ross)\n",
      "820  0.000656     (Joey, Chandler, Monica, Rachel, Carol, Susan)\n",
      "..        ...                                                ...\n",
      "955  0.000328  (Joey, Monica, Gunther, Phoebe, Rachel, Emily,...\n",
      "956  0.000328  (Joey, Mike, Monica, Gunther, Phoebe, Rachel, ...\n",
      "957  0.000328  (Joey, Chandler, Monica, Phoebe, Rachel, Carol...\n",
      "958  0.000328  (Joey, Chandler, Monica, Gunther, Phoebe, Rach...\n",
      "959  0.000328  (Joey, Chandler, Mike, Monica, Gunther, Phoebe...\n",
      "\n",
      "[144 rows x 2 columns]\n"
     ]
    }
   ],
   "source": [
    "# Inspect itemsets where the size is greater than 5\n",
    "large_itemsets = frequent_itemsets[frequent_itemsets['itemsets'].apply(len) > 5]\n",
    "print(large_itemsets)\n"
   ]
  },
  {
   "cell_type": "code",
   "execution_count": 69,
   "metadata": {},
   "outputs": [
    {
     "name": "stderr",
     "output_type": "stream",
     "text": [
      "/usr/local/lib/python3.9/site-packages/mlxtend/frequent_patterns/fpcommon.py:161: DeprecationWarning: DataFrames with non-bool types result in worse computationalperformance and their support might be discontinued in the future.Please use a DataFrame with bool type\n",
      "  warnings.warn(\n"
     ]
    },
    {
     "name": "stdout",
     "output_type": "stream",
     "text": [
      "                  antecedents                                     consequents  \\\n",
      "0                     (Carol)                                          (Ross)   \n",
      "1                     (Susan)                                         (Carol)   \n",
      "2                     (Carol)                                         (Susan)   \n",
      "3                   (Gunther)                                      (Chandler)   \n",
      "4                    (Janice)                                      (Chandler)   \n",
      "...                       ...                                             ...   \n",
      "7078  (Mike, Gunther, Monica)          (Joey, Chandler, Phoebe, Rachel, Ross)   \n",
      "7079  (Mike, Gunther, Phoebe)          (Joey, Chandler, Monica, Rachel, Ross)   \n",
      "7080  (Mike, Gunther, Rachel)          (Joey, Chandler, Monica, Phoebe, Ross)   \n",
      "7081    (Mike, Gunther, Ross)        (Joey, Chandler, Monica, Phoebe, Rachel)   \n",
      "7082          (Mike, Gunther)  (Joey, Chandler, Monica, Phoebe, Rachel, Ross)   \n",
      "\n",
      "      antecedent support  consequent support   support  confidence       lift  \\\n",
      "0               0.012459            0.412787  0.011475    0.921053   2.231303   \n",
      "1               0.008852            0.012459  0.006885    0.777778  62.426901   \n",
      "2               0.012459            0.008852  0.006885    0.552632  62.426901   \n",
      "3               0.020656            0.444590  0.011148    0.539683   1.213888   \n",
      "4               0.014426            0.444590  0.011148    0.772727   1.738067   \n",
      "...                  ...                 ...       ...         ...        ...   \n",
      "7078            0.000328            0.097377  0.000328    1.000000  10.269360   \n",
      "7079            0.000328            0.102951  0.000328    1.000000   9.713376   \n",
      "7080            0.000328            0.102295  0.000328    1.000000   9.775641   \n",
      "7081            0.000328            0.108525  0.000328    1.000000   9.214502   \n",
      "7082            0.000328            0.089836  0.000328    1.000000  11.131387   \n",
      "\n",
      "      representativity  leverage  conviction  zhangs_metric   jaccard  \\\n",
      "0                  1.0  0.006332    7.438033       0.558793  0.027734   \n",
      "1                  1.0  0.006775    4.443934       0.992770  0.477273   \n",
      "2                  1.0  0.006775    2.215506       0.996395  0.477273   \n",
      "3                  1.0  0.001964    1.206580       0.179917  0.024549   \n",
      "4                  1.0  0.004734    2.443803       0.430864  0.024890   \n",
      "...                ...       ...         ...            ...       ...   \n",
      "7078               1.0  0.000296         inf       0.902919  0.003367   \n",
      "7079               1.0  0.000294         inf       0.897343  0.003185   \n",
      "7080               1.0  0.000294         inf       0.897999  0.003205   \n",
      "7081               1.0  0.000292         inf       0.891768  0.003021   \n",
      "7082               1.0  0.000298         inf       0.910462  0.003650   \n",
      "\n",
      "      certainty  kulczynski  \n",
      "0      0.865556    0.474426  \n",
      "1      0.774974    0.665205  \n",
      "2      0.548636    0.665205  \n",
      "3      0.171211    0.282378  \n",
      "4      0.590802    0.398901  \n",
      "...         ...         ...  \n",
      "7078   1.000000    0.501684  \n",
      "7079   1.000000    0.501592  \n",
      "7080   1.000000    0.501603  \n",
      "7081   1.000000    0.501511  \n",
      "7082   1.000000    0.501825  \n",
      "\n",
      "[7083 rows x 14 columns]\n"
     ]
    }
   ],
   "source": [
    "from mlxtend.frequent_patterns import apriori, association_rules\n",
    "\n",
    "# Apply apriori algorithm\n",
    "frequent_itemsets = apriori(df_bin, min_support=0.00008, use_colnames=True)\n",
    "\n",
    "# Generate association rules\n",
    "rules = association_rules(frequent_itemsets, metric=\"confidence\", min_threshold=0.5)\n",
    "\n",
    "# Show the rules\n",
    "print(rules)\n"
   ]
  },
  {
   "cell_type": "code",
   "execution_count": 75,
   "metadata": {},
   "outputs": [
    {
     "name": "stdout",
     "output_type": "stream",
     "text": [
      "                          antecedents                      consequents  \\\n",
      "3821                    (Joey, Susan)  (Ross, Monica, Carol, Chandler)   \n",
      "3803  (Ross, Monica, Carol, Chandler)                    (Joey, Susan)   \n",
      "1629                    (Joey, Susan)          (Ross, Carol, Chandler)   \n",
      "1625          (Ross, Carol, Chandler)                    (Joey, Susan)   \n",
      "1725            (Ross, Phoebe, Carol)                (Susan, Chandler)   \n",
      "\n",
      "       support  confidence        lift  kulczynski  \n",
      "3821  0.001311    0.800000  488.000000    0.800000  \n",
      "3803  0.001311    0.800000  488.000000    0.800000  \n",
      "1629  0.001639    1.000000  338.888889    0.777778  \n",
      "1625  0.001639    0.555556  338.888889    0.777778  \n",
      "1725  0.001967    0.750000  285.937500    0.750000  \n"
     ]
    }
   ],
   "source": [
    "# Convert frequent_itemsets to a dictionary for quick lookups\n",
    "itemsets_dict = frequent_itemsets.set_index('itemsets')['support'].to_dict()\n",
    "\n",
    "# Add lhs_support and rhs_support to the rules\n",
    "rules['lhs_support'] = rules['antecedents'].apply(lambda x: itemsets_dict.get(frozenset(x), 0))\n",
    "rules['rhs_support'] = rules['consequents'].apply(lambda x: itemsets_dict.get(frozenset(x), 0))\n",
    "\n",
    "# Subset rules\n",
    "rules_sub = rules\n",
    "\n",
    "\n",
    "# Calculate Kulczynski measure\n",
    "rules_sub['kulczynski'] = (\n",
    "    (rules_sub['support'] / rules_sub['lhs_support']) + \n",
    "    (rules_sub['support'] / rules_sub['rhs_support'])\n",
    ") / 2\n",
    "\n",
    "# Display top 5 rules by Kulczynski\n",
    "top_rules = rules_sub.sort_values('kulczynski', ascending=False).head(5)\n",
    "print(top_rules[['antecedents', 'consequents', 'support', 'confidence', 'lift', 'kulczynski']])\n"
   ]
  },
  {
   "cell_type": "code",
   "execution_count": 78,
   "metadata": {},
   "outputs": [
    {
     "data": {
      "text/html": [
       "<div>\n",
       "<style scoped>\n",
       "    .dataframe tbody tr th:only-of-type {\n",
       "        vertical-align: middle;\n",
       "    }\n",
       "\n",
       "    .dataframe tbody tr th {\n",
       "        vertical-align: top;\n",
       "    }\n",
       "\n",
       "    .dataframe thead th {\n",
       "        text-align: right;\n",
       "    }\n",
       "</style>\n",
       "<table border=\"1\" class=\"dataframe\">\n",
       "  <thead>\n",
       "    <tr style=\"text-align: right;\">\n",
       "      <th></th>\n",
       "      <th>antecedents</th>\n",
       "      <th>consequents</th>\n",
       "      <th>antecedent support</th>\n",
       "      <th>consequent support</th>\n",
       "      <th>support</th>\n",
       "      <th>confidence</th>\n",
       "      <th>lift</th>\n",
       "      <th>representativity</th>\n",
       "      <th>leverage</th>\n",
       "      <th>conviction</th>\n",
       "      <th>zhangs_metric</th>\n",
       "      <th>jaccard</th>\n",
       "      <th>certainty</th>\n",
       "      <th>kulczynski</th>\n",
       "      <th>lhs_size</th>\n",
       "      <th>rhs_size</th>\n",
       "      <th>lhs_support</th>\n",
       "      <th>rhs_support</th>\n",
       "    </tr>\n",
       "  </thead>\n",
       "  <tbody>\n",
       "    <tr>\n",
       "      <th>3821</th>\n",
       "      <td>(Joey, Susan)</td>\n",
       "      <td>(Ross, Monica, Carol, Chandler)</td>\n",
       "      <td>0.001639</td>\n",
       "      <td>0.001639</td>\n",
       "      <td>0.001311</td>\n",
       "      <td>0.800000</td>\n",
       "      <td>488.000000</td>\n",
       "      <td>1.0</td>\n",
       "      <td>0.001309</td>\n",
       "      <td>4.991803</td>\n",
       "      <td>0.999589</td>\n",
       "      <td>0.666667</td>\n",
       "      <td>0.799672</td>\n",
       "      <td>0.800000</td>\n",
       "      <td>2</td>\n",
       "      <td>4</td>\n",
       "      <td>0.001639</td>\n",
       "      <td>0.001639</td>\n",
       "    </tr>\n",
       "    <tr>\n",
       "      <th>3803</th>\n",
       "      <td>(Ross, Monica, Carol, Chandler)</td>\n",
       "      <td>(Joey, Susan)</td>\n",
       "      <td>0.001639</td>\n",
       "      <td>0.001639</td>\n",
       "      <td>0.001311</td>\n",
       "      <td>0.800000</td>\n",
       "      <td>488.000000</td>\n",
       "      <td>1.0</td>\n",
       "      <td>0.001309</td>\n",
       "      <td>4.991803</td>\n",
       "      <td>0.999589</td>\n",
       "      <td>0.666667</td>\n",
       "      <td>0.799672</td>\n",
       "      <td>0.800000</td>\n",
       "      <td>4</td>\n",
       "      <td>2</td>\n",
       "      <td>0.001639</td>\n",
       "      <td>0.001639</td>\n",
       "    </tr>\n",
       "    <tr>\n",
       "      <th>1629</th>\n",
       "      <td>(Joey, Susan)</td>\n",
       "      <td>(Ross, Carol, Chandler)</td>\n",
       "      <td>0.001639</td>\n",
       "      <td>0.002951</td>\n",
       "      <td>0.001639</td>\n",
       "      <td>1.000000</td>\n",
       "      <td>338.888889</td>\n",
       "      <td>1.0</td>\n",
       "      <td>0.001635</td>\n",
       "      <td>inf</td>\n",
       "      <td>0.998686</td>\n",
       "      <td>0.555556</td>\n",
       "      <td>1.000000</td>\n",
       "      <td>0.777778</td>\n",
       "      <td>2</td>\n",
       "      <td>3</td>\n",
       "      <td>0.001639</td>\n",
       "      <td>0.002951</td>\n",
       "    </tr>\n",
       "    <tr>\n",
       "      <th>1625</th>\n",
       "      <td>(Ross, Carol, Chandler)</td>\n",
       "      <td>(Joey, Susan)</td>\n",
       "      <td>0.002951</td>\n",
       "      <td>0.001639</td>\n",
       "      <td>0.001639</td>\n",
       "      <td>0.555556</td>\n",
       "      <td>338.888889</td>\n",
       "      <td>1.0</td>\n",
       "      <td>0.001635</td>\n",
       "      <td>2.246311</td>\n",
       "      <td>1.000000</td>\n",
       "      <td>0.555556</td>\n",
       "      <td>0.554826</td>\n",
       "      <td>0.777778</td>\n",
       "      <td>3</td>\n",
       "      <td>2</td>\n",
       "      <td>0.002951</td>\n",
       "      <td>0.001639</td>\n",
       "    </tr>\n",
       "    <tr>\n",
       "      <th>1725</th>\n",
       "      <td>(Ross, Phoebe, Carol)</td>\n",
       "      <td>(Susan, Chandler)</td>\n",
       "      <td>0.002623</td>\n",
       "      <td>0.002623</td>\n",
       "      <td>0.001967</td>\n",
       "      <td>0.750000</td>\n",
       "      <td>285.937500</td>\n",
       "      <td>1.0</td>\n",
       "      <td>0.001960</td>\n",
       "      <td>3.989508</td>\n",
       "      <td>0.999123</td>\n",
       "      <td>0.600000</td>\n",
       "      <td>0.749343</td>\n",
       "      <td>0.750000</td>\n",
       "      <td>3</td>\n",
       "      <td>2</td>\n",
       "      <td>0.002623</td>\n",
       "      <td>0.002623</td>\n",
       "    </tr>\n",
       "  </tbody>\n",
       "</table>\n",
       "</div>"
      ],
      "text/plain": [
       "                          antecedents                      consequents  \\\n",
       "3821                    (Joey, Susan)  (Ross, Monica, Carol, Chandler)   \n",
       "3803  (Ross, Monica, Carol, Chandler)                    (Joey, Susan)   \n",
       "1629                    (Joey, Susan)          (Ross, Carol, Chandler)   \n",
       "1625          (Ross, Carol, Chandler)                    (Joey, Susan)   \n",
       "1725            (Ross, Phoebe, Carol)                (Susan, Chandler)   \n",
       "\n",
       "      antecedent support  consequent support   support  confidence  \\\n",
       "3821            0.001639            0.001639  0.001311    0.800000   \n",
       "3803            0.001639            0.001639  0.001311    0.800000   \n",
       "1629            0.001639            0.002951  0.001639    1.000000   \n",
       "1625            0.002951            0.001639  0.001639    0.555556   \n",
       "1725            0.002623            0.002623  0.001967    0.750000   \n",
       "\n",
       "            lift  representativity  leverage  conviction  zhangs_metric  \\\n",
       "3821  488.000000               1.0  0.001309    4.991803       0.999589   \n",
       "3803  488.000000               1.0  0.001309    4.991803       0.999589   \n",
       "1629  338.888889               1.0  0.001635         inf       0.998686   \n",
       "1625  338.888889               1.0  0.001635    2.246311       1.000000   \n",
       "1725  285.937500               1.0  0.001960    3.989508       0.999123   \n",
       "\n",
       "       jaccard  certainty  kulczynski  lhs_size  rhs_size  lhs_support  \\\n",
       "3821  0.666667   0.799672    0.800000         2         4     0.001639   \n",
       "3803  0.666667   0.799672    0.800000         4         2     0.001639   \n",
       "1629  0.555556   1.000000    0.777778         2         3     0.001639   \n",
       "1625  0.555556   0.554826    0.777778         3         2     0.002951   \n",
       "1725  0.600000   0.749343    0.750000         3         2     0.002623   \n",
       "\n",
       "      rhs_support  \n",
       "3821     0.001639  \n",
       "3803     0.001639  \n",
       "1629     0.002951  \n",
       "1625     0.001639  \n",
       "1725     0.002623  "
      ]
     },
     "execution_count": 78,
     "metadata": {},
     "output_type": "execute_result"
    }
   ],
   "source": [
    "top_rules"
   ]
  },
  {
   "cell_type": "code",
   "execution_count": 79,
   "metadata": {},
   "outputs": [
    {
     "data": {
      "image/png": "[encoded data removed]",
      "text/plain": [
       "<Figure size 1000x600 with 1 Axes>"
      ]
     },
     "metadata": {},
     "output_type": "display_data"
    }
   ],
   "source": [
    "\n",
    "\n",
    "# Filter rules with a minimum lift value for better visualization\n",
    "rules_filtered = rules[rules['lift'] > 1].copy()\n",
    "\n",
    "# Plot lift vs confidence, sized by support\n",
    "plt.figure(figsize=(10, 6))\n",
    "scatter = sns.scatterplot(\n",
    "    data=rules_filtered,\n",
    "    x='confidence',\n",
    "    y='lift',\n",
    "    size='support',\n",
    "    sizes=(10, 200),\n",
    "    hue='support',\n",
    "    palette='viridis'\n",
    ")\n",
    "\n",
    "scatter.set_title('Association Rules')\n",
    "scatter.set_xlabel('Confidence')\n",
    "scatter.set_ylabel('Lift')\n",
    "\n",
    "plt.legend(bbox_to_anchor=(1.05, 1), loc='upper left')\n",
    "plt.tight_layout()\n",
    "plt.show()\n"
   ]
  },
  {
   "cell_type": "code",
   "execution_count": 80,
   "metadata": {},
   "outputs": [
    {
     "data": {
      "application/vnd.plotly.v1+json": {
       "config": {
        "plotlyServerURL": "https://plot.ly"
       },
       "data": [
        {
         "dimensions": [
          {
           "label": "support",
           "values": [
            0.0003278688524590164,
            0.0003278688524590164,
            0.0003278688524590164,
            0.0003278688524590164,
            0.0003278688524590164,
            0.0003278688524590164,
            0.0003278688524590164,
            0.0003278688524590164,
            0.0003278688524590164,
            0.0003278688524590164,
            0.0003278688524590164,
            0.0003278688524590164,
            0.0003278688524590164,
            0.0003278688524590164,
            0.0003278688524590164,
            0.0003278688524590164,
            0.0003278688524590164,
            0.0003278688524590164,
            0.0003278688524590164,
            0.0003278688524590164
           ]
          },
          {
           "label": "confidence",
           "values": [
            1,
            1,
            1,
            0.5,
            0.5,
            1,
            0.5,
            1,
            1,
            0.5,
            0.5,
            0.5,
            0.5,
            0.5,
            0.5,
            1,
            1,
            1,
            0.5,
            0.5
           ]
          },
          {
           "label": "lift",
           "values": [
            112.96296296296296,
            2.4225575853852264,
            80.26315789473684,
            1.2634631317315659,
            1.1803405572755419,
            2.2492625368731565,
            1.1588145896656534,
            112.96296296296296,
            87.14285714285715,
            152.5,
            2.563025210084034,
            190.625,
            217.85714285714286,
            2.584745762711864,
            169.44444444444446,
            381.25,
            4.565868263473054,
            305,
            2.447833065810594,
            1.7173423423423422
           ]
          }
         ],
         "domain": {
          "x": [
           0,
           1
          ],
          "y": [
           0,
           1
          ]
         },
         "line": {
          "color": [
           112.96296296296296,
           2.4225575853852264,
           80.26315789473684,
           1.2634631317315659,
           1.1803405572755419,
           2.2492625368731565,
           1.1588145896656534,
           112.96296296296296,
           87.14285714285715,
           152.5,
           2.563025210084034,
           190.625,
           217.85714285714286,
           2.584745762711864,
           169.44444444444446,
           381.25,
           4.565868263473054,
           305,
           2.447833065810594,
           1.7173423423423422
          ],
          "coloraxis": "coloraxis"
         },
         "name": "",
         "type": "parcoords"
        }
       ],
       "layout": {
        "coloraxis": {
         "colorbar": {
          "title": {
           "text": "lift"
          }
         },
         "colorscale": [
          [
           0,
           "#440154"
          ],
          [
           0.1111111111111111,
           "#482878"
          ],
          [
           0.2222222222222222,
           "#3e4989"
          ],
          [
           0.3333333333333333,
           "#31688e"
          ],
          [
           0.4444444444444444,
           "#26828e"
          ],
          [
           0.5555555555555556,
           "#1f9e89"
          ],
          [
           0.6666666666666666,
           "#35b779"
          ],
          [
           0.7777777777777778,
           "#6ece58"
          ],
          [
           0.8888888888888888,
           "#b5de2b"
          ],
          [
           1,
           "#fde725"
          ]
         ]
        },
        "legend": {
         "tracegroupgap": 0
        },
        "template": {
         "data": {
          "bar": [
           {
            "error_x": {
             "color": "#2a3f5f"
            },
            "error_y": {
             "color": "#2a3f5f"
            },
            "marker": {
             "line": {
              "color": "#E5ECF6",
              "width": 0.5
             },
             "pattern": {
              "fillmode": "overlay",
              "size": 10,
              "solidity": 0.2
             }
            },
            "type": "bar"
           }
          ],
          "barpolar": [
           {
            "marker": {
             "line": {
              "color": "#E5ECF6",
              "width": 0.5
             },
             "pattern": {
              "fillmode": "overlay",
              "size": 10,
              "solidity": 0.2
             }
            },
            "type": "barpolar"
           }
          ],
          "carpet": [
           {
            "aaxis": {
             "endlinecolor": "#2a3f5f",
             "gridcolor": "white",
             "linecolor": "white",
             "minorgridcolor": "white",
             "startlinecolor": "#2a3f5f"
            },
            "baxis": {
             "endlinecolor": "#2a3f5f",
             "gridcolor": "white",
             "linecolor": "white",
             "minorgridcolor": "white",
             "startlinecolor": "#2a3f5f"
            },
            "type": "carpet"
           }
          ],
          "choropleth": [
           {
            "colorbar": {
             "outlinewidth": 0,
             "ticks": ""
            },
            "type": "choropleth"
           }
          ],
          "contour": [
           {
            "colorbar": {
             "outlinewidth": 0,
             "ticks": ""
            },
            "colorscale": [
             [
              0,
              "#0d0887"
             ],
             [
              0.1111111111111111,
              "#46039f"
             ],
             [
              0.2222222222222222,
              "#7201a8"
             ],
             [
              0.3333333333333333,
              "#9c179e"
             ],
             [
              0.4444444444444444,
              "#bd3786"
             ],
             [
              0.5555555555555556,
              "#d8576b"
             ],
             [
              0.6666666666666666,
              "#ed7953"
             ],
             [
              0.7777777777777778,
              "#fb9f3a"
             ],
             [
              0.8888888888888888,
              "#fdca26"
             ],
             [
              1,
              "#f0f921"
             ]
            ],
            "type": "contour"
           }
          ],
          "contourcarpet": [
           {
            "colorbar": {
             "outlinewidth": 0,
             "ticks": ""
            },
            "type": "contourcarpet"
           }
          ],
          "heatmap": [
           {
            "colorbar": {
             "outlinewidth": 0,
             "ticks": ""
            },
            "colorscale": [
             [
              0,
              "#0d0887"
             ],
             [
              0.1111111111111111,
              "#46039f"
             ],
             [
              0.2222222222222222,
              "#7201a8"
             ],
             [
              0.3333333333333333,
              "#9c179e"
             ],
             [
              0.4444444444444444,
              "#bd3786"
             ],
             [
              0.5555555555555556,
              "#d8576b"
             ],
             [
              0.6666666666666666,
              "#ed7953"
             ],
             [
              0.7777777777777778,
              "#fb9f3a"
             ],
             [
              0.8888888888888888,
              "#fdca26"
             ],
             [
              1,
              "#f0f921"
             ]
            ],
            "type": "heatmap"
           }
          ],
          "heatmapgl": [
           {
            "colorbar": {
             "outlinewidth": 0,
             "ticks": ""
            },
            "colorscale": [
             [
              0,
              "#0d0887"
             ],
             [
              0.1111111111111111,
              "#46039f"
             ],
             [
              0.2222222222222222,
              "#7201a8"
             ],
             [
              0.3333333333333333,
              "#9c179e"
             ],
             [
              0.4444444444444444,
              "#bd3786"
             ],
             [
              0.5555555555555556,
              "#d8576b"
             ],
             [
              0.6666666666666666,
              "#ed7953"
             ],
             [
              0.7777777777777778,
              "#fb9f3a"
             ],
             [
              0.8888888888888888,
              "#fdca26"
             ],
             [
              1,
              "#f0f921"
             ]
            ],
            "type": "heatmapgl"
           }
          ],
          "histogram": [
           {
            "marker": {
             "pattern": {
              "fillmode": "overlay",
              "size": 10,
              "solidity": 0.2
             }
            },
            "type": "histogram"
           }
          ],
          "histogram2d": [
           {
            "colorbar": {
             "outlinewidth": 0,
             "ticks": ""
            },
            "colorscale": [
             [
              0,
              "#0d0887"
             ],
             [
              0.1111111111111111,
              "#46039f"
             ],
             [
              0.2222222222222222,
              "#7201a8"
             ],
             [
              0.3333333333333333,
              "#9c179e"
             ],
             [
              0.4444444444444444,
              "#bd3786"
             ],
             [
              0.5555555555555556,
              "#d8576b"
             ],
             [
              0.6666666666666666,
              "#ed7953"
             ],
             [
              0.7777777777777778,
              "#fb9f3a"
             ],
             [
              0.8888888888888888,
              "#fdca26"
             ],
             [
              1,
              "#f0f921"
             ]
            ],
            "type": "histogram2d"
           }
          ],
          "histogram2dcontour": [
           {
            "colorbar": {
             "outlinewidth": 0,
             "ticks": ""
            },
            "colorscale": [
             [
              0,
              "#0d0887"
             ],
             [
              0.1111111111111111,
              "#46039f"
             ],
             [
              0.2222222222222222,
              "#7201a8"
             ],
             [
              0.3333333333333333,
              "#9c179e"
             ],
             [
              0.4444444444444444,
              "#bd3786"
             ],
             [
              0.5555555555555556,
              "#d8576b"
             ],
             [
              0.6666666666666666,
              "#ed7953"
             ],
             [
              0.7777777777777778,
              "#fb9f3a"
             ],
             [
              0.8888888888888888,
              "#fdca26"
             ],
             [
              1,
              "#f0f921"
             ]
            ],
            "type": "histogram2dcontour"
           }
          ],
          "mesh3d": [
           {
            "colorbar": {
             "outlinewidth": 0,
             "ticks": ""
            },
            "type": "mesh3d"
           }
          ],
          "parcoords": [
           {
            "line": {
             "colorbar": {
              "outlinewidth": 0,
              "ticks": ""
             }
            },
            "type": "parcoords"
           }
          ],
          "pie": [
           {
            "automargin": true,
            "type": "pie"
           }
          ],
          "scatter": [
           {
            "fillpattern": {
             "fillmode": "overlay",
             "size": 10,
             "solidity": 0.2
            },
            "type": "scatter"
           }
          ],
          "scatter3d": [
           {
            "line": {
             "colorbar": {
              "outlinewidth": 0,
              "ticks": ""
             }
            },
            "marker": {
             "colorbar": {
              "outlinewidth": 0,
              "ticks": ""
             }
            },
            "type": "scatter3d"
           }
          ],
          "scattercarpet": [
           {
            "marker": {
             "colorbar": {
              "outlinewidth": 0,
              "ticks": ""
             }
            },
            "type": "scattercarpet"
           }
          ],
          "scattergeo": [
           {
            "marker": {
             "colorbar": {
              "outlinewidth": 0,
              "ticks": ""
             }
            },
            "type": "scattergeo"
           }
          ],
          "scattergl": [
           {
            "marker": {
             "colorbar": {
              "outlinewidth": 0,
              "ticks": ""
             }
            },
            "type": "scattergl"
           }
          ],
          "scattermapbox": [
           {
            "marker": {
             "colorbar": {
              "outlinewidth": 0,
              "ticks": ""
             }
            },
            "type": "scattermapbox"
           }
          ],
          "scatterpolar": [
           {
            "marker": {
             "colorbar": {
              "outlinewidth": 0,
              "ticks": ""
             }
            },
            "type": "scatterpolar"
           }
          ],
          "scatterpolargl": [
           {
            "marker": {
             "colorbar": {
              "outlinewidth": 0,
              "ticks": ""
             }
            },
            "type": "scatterpolargl"
           }
          ],
          "scatterternary": [
           {
            "marker": {
             "colorbar": {
              "outlinewidth": 0,
              "ticks": ""
             }
            },
            "type": "scatterternary"
           }
          ],
          "surface": [
           {
            "colorbar": {
             "outlinewidth": 0,
             "ticks": ""
            },
            "colorscale": [
             [
              0,
              "#0d0887"
             ],
             [
              0.1111111111111111,
              "#46039f"
             ],
             [
              0.2222222222222222,
              "#7201a8"
             ],
             [
              0.3333333333333333,
              "#9c179e"
             ],
             [
              0.4444444444444444,
              "#bd3786"
             ],
             [
              0.5555555555555556,
              "#d8576b"
             ],
             [
              0.6666666666666666,
              "#ed7953"
             ],
             [
              0.7777777777777778,
              "#fb9f3a"
             ],
             [
              0.8888888888888888,
              "#fdca26"
             ],
             [
              1,
              "#f0f921"
             ]
            ],
            "type": "surface"
           }
          ],
          "table": [
           {
            "cells": {
             "fill": {
              "color": "#EBF0F8"
             },
             "line": {
              "color": "white"
             }
            },
            "header": {
             "fill": {
              "color": "#C8D4E3"
             },
             "line": {
              "color": "white"
             }
            },
            "type": "table"
           }
          ]
         },
         "layout": {
          "annotationdefaults": {
           "arrowcolor": "#2a3f5f",
           "arrowhead": 0,
           "arrowwidth": 1
          },
          "autotypenumbers": "strict",
          "coloraxis": {
           "colorbar": {
            "outlinewidth": 0,
            "ticks": ""
           }
          },
          "colorscale": {
           "diverging": [
            [
             0,
             "#8e0152"
            ],
            [
             0.1,
             "#c51b7d"
            ],
            [
             0.2,
             "#de77ae"
            ],
            [
             0.3,
             "#f1b6da"
            ],
            [
             0.4,
             "#fde0ef"
            ],
            [
             0.5,
             "#f7f7f7"
            ],
            [
             0.6,
             "#e6f5d0"
            ],
            [
             0.7,
             "#b8e186"
            ],
            [
             0.8,
             "#7fbc41"
            ],
            [
             0.9,
             "#4d9221"
            ],
            [
             1,
             "#276419"
            ]
           ],
           "sequential": [
            [
             0,
             "#0d0887"
            ],
            [
             0.1111111111111111,
             "#46039f"
            ],
            [
             0.2222222222222222,
             "#7201a8"
            ],
            [
             0.3333333333333333,
             "#9c179e"
            ],
            [
             0.4444444444444444,
             "#bd3786"
            ],
            [
             0.5555555555555556,
             "#d8576b"
            ],
            [
             0.6666666666666666,
             "#ed7953"
            ],
            [
             0.7777777777777778,
             "#fb9f3a"
            ],
            [
             0.8888888888888888,
             "#fdca26"
            ],
            [
             1,
             "#f0f921"
            ]
           ],
           "sequentialminus": [
            [
             0,
             "#0d0887"
            ],
            [
             0.1111111111111111,
             "#46039f"
            ],
            [
             0.2222222222222222,
             "#7201a8"
            ],
            [
             0.3333333333333333,
             "#9c179e"
            ],
            [
             0.4444444444444444,
             "#bd3786"
            ],
            [
             0.5555555555555556,
             "#d8576b"
            ],
            [
             0.6666666666666666,
             "#ed7953"
            ],
            [
             0.7777777777777778,
             "#fb9f3a"
            ],
            [
             0.8888888888888888,
             "#fdca26"
            ],
            [
             1,
             "#f0f921"
            ]
           ]
          },
          "colorway": [
           "#636efa",
           "#EF553B",
           "#00cc96",
           "#ab63fa",
           "#FFA15A",
           "#19d3f3",
           "#FF6692",
           "#B6E880",
           "#FF97FF",
           "#FECB52"
          ],
          "font": {
           "color": "#2a3f5f"
          },
          "geo": {
           "bgcolor": "white",
           "lakecolor": "white",
           "landcolor": "#E5ECF6",
           "showlakes": true,
           "showland": true,
           "subunitcolor": "white"
          },
          "hoverlabel": {
           "align": "left"
          },
          "hovermode": "closest",
          "mapbox": {
           "style": "light"
          },
          "paper_bgcolor": "white",
          "plot_bgcolor": "#E5ECF6",
          "polar": {
           "angularaxis": {
            "gridcolor": "white",
            "linecolor": "white",
            "ticks": ""
           },
           "bgcolor": "#E5ECF6",
           "radialaxis": {
            "gridcolor": "white",
            "linecolor": "white",
            "ticks": ""
           }
          },
          "scene": {
           "xaxis": {
            "backgroundcolor": "#E5ECF6",
            "gridcolor": "white",
            "gridwidth": 2,
            "linecolor": "white",
            "showbackground": true,
            "ticks": "",
            "zerolinecolor": "white"
           },
           "yaxis": {
            "backgroundcolor": "#E5ECF6",
            "gridcolor": "white",
            "gridwidth": 2,
            "linecolor": "white",
            "showbackground": true,
            "ticks": "",
            "zerolinecolor": "white"
           },
           "zaxis": {
            "backgroundcolor": "#E5ECF6",
            "gridcolor": "white",
            "gridwidth": 2,
            "linecolor": "white",
            "showbackground": true,
            "ticks": "",
            "zerolinecolor": "white"
           }
          },
          "shapedefaults": {
           "line": {
            "color": "#2a3f5f"
           }
          },
          "ternary": {
           "aaxis": {
            "gridcolor": "white",
            "linecolor": "white",
            "ticks": ""
           },
           "baxis": {
            "gridcolor": "white",
            "linecolor": "white",
            "ticks": ""
           },
           "bgcolor": "#E5ECF6",
           "caxis": {
            "gridcolor": "white",
            "linecolor": "white",
            "ticks": ""
           }
          },
          "title": {
           "x": 0.05
          },
          "xaxis": {
           "automargin": true,
           "gridcolor": "white",
           "linecolor": "white",
           "ticks": "",
           "title": {
            "standoff": 15
           },
           "zerolinecolor": "white",
           "zerolinewidth": 2
          },
          "yaxis": {
           "automargin": true,
           "gridcolor": "white",
           "linecolor": "white",
           "ticks": "",
           "title": {
            "standoff": 15
           },
           "zerolinecolor": "white",
           "zerolinewidth": 2
          }
         }
        },
        "title": {
         "text": "Top 20 Rules by Size (Parallel Coordinates Plot)"
        }
       }
      }
     },
     "metadata": {},
     "output_type": "display_data"
    }
   ],
   "source": [
    "\n",
    "# Filter the top 20 rules by size\n",
    "rules['rule_size'] = rules['lhs_size'] + rules['rhs_size']\n",
    "top_rules = rules.nlargest(20, 'rule_size')\n",
    "\n",
    "# Prepare data for plotting\n",
    "top_rules['lhs'] = top_rules['antecedents'].apply(lambda x: ', '.join(list(x)))\n",
    "top_rules['rhs'] = top_rules['consequents'].apply(lambda x: ', '.join(list(x)))\n",
    "\n",
    "# Parallel coordinates plot using Plotly\n",
    "fig = px.parallel_coordinates(\n",
    "    top_rules,\n",
    "    dimensions=['lhs', 'rhs', 'support', 'confidence', 'lift'],\n",
    "    color='lift',\n",
    "    color_continuous_scale=px.colors.sequential.Viridis,\n",
    "    title='Top 20 Rules by Size (Parallel Coordinates Plot)'\n",
    ")\n",
    "\n",
    "fig.show()\n"
   ]
  }
 ],
 "metadata": {
  "kernelspec": {
   "display_name": "Python 3",
   "language": "python",
   "name": "python3"
  },
  "language_info": {
   "codemirror_mode": {
    "name": "ipython",
    "version": 3
   },
   "file_extension": ".py",
   "mimetype": "text/x-python",
   "name": "python",
   "nbconvert_exporter": "python",
   "pygments_lexer": "ipython3",
   "version": "3.9.9"
  }
 },
 "nbformat": 4,
 "nbformat_minor": 2
}
